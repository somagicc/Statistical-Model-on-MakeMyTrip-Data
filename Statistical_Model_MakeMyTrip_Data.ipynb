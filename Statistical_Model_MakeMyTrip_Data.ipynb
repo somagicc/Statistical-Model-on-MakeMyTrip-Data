{
 "cells": [
  {
   "cell_type": "markdown",
   "metadata": {},
   "source": [
    "<img src=\"https://media.giphy.com/media/l1KtVQLora1PulL8Y/giphy.gif\" width=\"240\" height=\"360\" />\n"
   ]
  },
  {
   "cell_type": "markdown",
   "metadata": {},
   "source": [
    "# MMT Task"
   ]
  },
  {
   "cell_type": "markdown",
   "metadata": {},
   "source": [
    "## Table of Contents\n",
    "\n",
    "1. [Problem Statement](#section1)<br>\n",
    "2. [Data Loading and Description](#section2)\n",
    "    - 2.1 [Importing Packages](#section201)<br>\n",
    "    - 2.2 [Importing the Dataset](#section202)<br>\n",
    "    - 2.3 [Attributes of Data](#section203)<br>\n",
    "    - 2.4 [Column-wise Analysis](#section204)<br>\n",
    "3. [Problem Statement 1](#section3)\n",
    "4. [Problem Statement 2](#section4)\n",
    "5. [Problem Statement 3](#section5)\n",
    "6. [Problem Statement 4](#section6)<br>\n"
   ]
  },
  {
   "cell_type": "markdown",
   "metadata": {},
   "source": [
    "<a id=section1></a>"
   ]
  },
  {
   "cell_type": "markdown",
   "metadata": {},
   "source": [
    "## 1. Problem Statement"
   ]
  },
  {
   "cell_type": "markdown",
   "metadata": {},
   "source": [
    "- Provide insights about type of customers present with us and their implications on overall data set using Clustering.\n",
    "\n",
    "- Who are our top 1 percentile of user. Why are they in this bucket.\n",
    "\n",
    "- Build a statistical Model to find the probability of repeat transaction by a user and divide them in 10 different buckets of probability with equal user in each bucket.\n",
    "\n",
    "- What is the probability of users transacting again, who have made single transaction till date?"
   ]
  },
  {
   "cell_type": "markdown",
   "metadata": {},
   "source": [
    "<a id=section2></a>"
   ]
  },
  {
   "cell_type": "markdown",
   "metadata": {},
   "source": [
    "## 2. Data Loading and Description"
   ]
  },
  {
   "cell_type": "markdown",
   "metadata": {},
   "source": [
    "<a id=section201></a>"
   ]
  },
  {
   "cell_type": "markdown",
   "metadata": {},
   "source": [
    "### 2.1 Importing packages  "
   ]
  },
  {
   "cell_type": "code",
   "execution_count": 1,
   "metadata": {},
   "outputs": [],
   "source": [
    "import numpy as np                                                 # Implemennts milti-dimensional array and matrices\n",
    "import pandas as pd                                                # For data manipulation and analysis\n",
    "\n",
    "import matplotlib.pyplot as plt                                    # Plotting library for Python programming language and it's numerical mathematics extension NumPy\n",
    "import seaborn as sns                                              # Provides a high level interface for drawing attractive and informative statistical graphics\n",
    "%matplotlib inline\n",
    "\n",
    "\n",
    "from subprocess import check_output"
   ]
  },
  {
   "cell_type": "markdown",
   "metadata": {},
   "source": [
    "<a id=section202></a>"
   ]
  },
  {
   "cell_type": "markdown",
   "metadata": {},
   "source": [
    "### 2.2 Importing the Dataset"
   ]
  },
  {
   "cell_type": "code",
   "execution_count": 2,
   "metadata": {},
   "outputs": [],
   "source": [
    "mmt_data = pd.read_excel('D:\\\\DATA_SCIENCE\\\\MMT_Task\\\\Data_Set1.xlsx')"
   ]
  },
  {
   "cell_type": "code",
   "execution_count": 94,
   "metadata": {},
   "outputs": [
    {
     "data": {
      "text/html": [
       "<div>\n",
       "<style scoped>\n",
       "    .dataframe tbody tr th:only-of-type {\n",
       "        vertical-align: middle;\n",
       "    }\n",
       "\n",
       "    .dataframe tbody tr th {\n",
       "        vertical-align: top;\n",
       "    }\n",
       "\n",
       "    .dataframe thead th {\n",
       "        text-align: right;\n",
       "    }\n",
       "</style>\n",
       "<table border=\"1\" class=\"dataframe\">\n",
       "  <thead>\n",
       "    <tr style=\"text-align: right;\">\n",
       "      <th></th>\n",
       "      <th>userid</th>\n",
       "      <th>signup_date</th>\n",
       "      <th>wallet</th>\n",
       "      <th>tier</th>\n",
       "      <th>txns</th>\n",
       "      <th>sync_tag</th>\n",
       "      <th>operator_name</th>\n",
       "      <th>state</th>\n",
       "      <th>app_status</th>\n",
       "      <th>segment</th>\n",
       "      <th>task</th>\n",
       "    </tr>\n",
       "  </thead>\n",
       "  <tbody>\n",
       "    <tr>\n",
       "      <td>0</td>\n",
       "      <td>7cb3f42379df52fb7c22a44c27399c3177bd99d2</td>\n",
       "      <td>2010-10-26</td>\n",
       "      <td>0.0</td>\n",
       "      <td>Silver</td>\n",
       "      <td>56</td>\n",
       "      <td>yes</td>\n",
       "      <td>Aircel</td>\n",
       "      <td>Assam</td>\n",
       "      <td>Y</td>\n",
       "      <td>ios_mid</td>\n",
       "      <td>NaN</td>\n",
       "    </tr>\n",
       "    <tr>\n",
       "      <td>1</td>\n",
       "      <td>f233e57f7a6fcd4dde48ab163bcb8f1d4e960300</td>\n",
       "      <td>2010-11-01</td>\n",
       "      <td>0.0</td>\n",
       "      <td>Bronze</td>\n",
       "      <td>5</td>\n",
       "      <td>yes</td>\n",
       "      <td>Vodafone</td>\n",
       "      <td>Andhra Pradesh</td>\n",
       "      <td>N</td>\n",
       "      <td>NaN</td>\n",
       "      <td>NaN</td>\n",
       "    </tr>\n",
       "    <tr>\n",
       "      <td>2</td>\n",
       "      <td>269f4f812dd5574240101fe2585d2e5b9ac8ba2c</td>\n",
       "      <td>2010-12-21</td>\n",
       "      <td>0.0</td>\n",
       "      <td>Bronze</td>\n",
       "      <td>1</td>\n",
       "      <td>yes</td>\n",
       "      <td>Airtel</td>\n",
       "      <td>Andhra Pradesh</td>\n",
       "      <td>Y</td>\n",
       "      <td>android_mid</td>\n",
       "      <td>2.0</td>\n",
       "    </tr>\n",
       "    <tr>\n",
       "      <td>3</td>\n",
       "      <td>bc9df7db16d7e5bdda4cc0b9d650014304c67dda</td>\n",
       "      <td>2011-05-02</td>\n",
       "      <td>0.0</td>\n",
       "      <td>Bronze</td>\n",
       "      <td>3</td>\n",
       "      <td>No</td>\n",
       "      <td>NaN</td>\n",
       "      <td>NaN</td>\n",
       "      <td>N</td>\n",
       "      <td>NaN</td>\n",
       "      <td>NaN</td>\n",
       "    </tr>\n",
       "    <tr>\n",
       "      <td>4</td>\n",
       "      <td>6bc67af161cdfbb59a3e5ecec50646017ae7d9eb</td>\n",
       "      <td>2011-07-08</td>\n",
       "      <td>0.0</td>\n",
       "      <td>Bronze</td>\n",
       "      <td>2</td>\n",
       "      <td>No</td>\n",
       "      <td>NaN</td>\n",
       "      <td>NaN</td>\n",
       "      <td>N</td>\n",
       "      <td>NaN</td>\n",
       "      <td>NaN</td>\n",
       "    </tr>\n",
       "  </tbody>\n",
       "</table>\n",
       "</div>"
      ],
      "text/plain": [
       "                                     userid signup_date  wallet    tier  txns  \\\n",
       "0  7cb3f42379df52fb7c22a44c27399c3177bd99d2  2010-10-26     0.0  Silver    56   \n",
       "1  f233e57f7a6fcd4dde48ab163bcb8f1d4e960300  2010-11-01     0.0  Bronze     5   \n",
       "2  269f4f812dd5574240101fe2585d2e5b9ac8ba2c  2010-12-21     0.0  Bronze     1   \n",
       "3  bc9df7db16d7e5bdda4cc0b9d650014304c67dda  2011-05-02     0.0  Bronze     3   \n",
       "4  6bc67af161cdfbb59a3e5ecec50646017ae7d9eb  2011-07-08     0.0  Bronze     2   \n",
       "\n",
       "  sync_tag operator_name           state app_status      segment  task  \n",
       "0      yes        Aircel           Assam          Y      ios_mid   NaN  \n",
       "1      yes      Vodafone  Andhra Pradesh          N          NaN   NaN  \n",
       "2      yes        Airtel  Andhra Pradesh          Y  android_mid   2.0  \n",
       "3       No           NaN             NaN          N          NaN   NaN  \n",
       "4       No           NaN             NaN          N          NaN   NaN  "
      ]
     },
     "execution_count": 94,
     "metadata": {},
     "output_type": "execute_result"
    }
   ],
   "source": [
    "mmt_data.head()"
   ]
  },
  {
   "cell_type": "code",
   "execution_count": 15,
   "metadata": {},
   "outputs": [
    {
     "data": {
      "text/plain": [
       "(100000, 11)"
      ]
     },
     "execution_count": 15,
     "metadata": {},
     "output_type": "execute_result"
    }
   ],
   "source": [
    "mmt_data.shape"
   ]
  },
  {
   "cell_type": "markdown",
   "metadata": {},
   "source": [
    "- Dataset has **100000 observations**. Below is a table showing names of columns and their description."
   ]
  },
  {
   "cell_type": "markdown",
   "metadata": {},
   "source": [
    "|Column   \t\t|Description                                                    |\n",
    "|-------    \t|:---------                                                    :|\n",
    "|userid     \t|Unique id to identify a user                                   |\n",
    "|signup_date\t|Date when the user first signed in with us                     |\n",
    "|wallet\t    \t|Amount present in his wallet                                   |\n",
    "|tier\t    \t|Current loyality standing                                      |\n",
    "|txns\t    \t|total number of transactions                                   |\n",
    "|sync_tag\t\t|to identify if a customer has synces his contact book or not   |\n",
    "|operator_name\t|Which mobile operator he is using                              |\n",
    "|state\t\t    |Which state does one's mobile number belongs to                |\n",
    "|app_status\t    |Whether at present customer has mobile app or not              | \n",
    "|segment\t    |Which type of mobile handset bucket customer lies in           |\n",
    "|task\t        |How many times customer has earned loyality money.             |"
   ]
  },
  {
   "cell_type": "markdown",
   "metadata": {},
   "source": [
    "<a id=section203></a>"
   ]
  },
  {
   "cell_type": "markdown",
   "metadata": {},
   "source": [
    "### 2.3 Attributes of Data"
   ]
  },
  {
   "cell_type": "code",
   "execution_count": 16,
   "metadata": {},
   "outputs": [
    {
     "data": {
      "text/plain": [
       "userid                   object\n",
       "signup_date      datetime64[ns]\n",
       "wallet                  float64\n",
       "tier                     object\n",
       "txns                      int64\n",
       "sync_tag                 object\n",
       "operator_name            object\n",
       "state                    object\n",
       "app_status               object\n",
       "segment                  object\n",
       "task                    float64\n",
       "dtype: object"
      ]
     },
     "execution_count": 16,
     "metadata": {},
     "output_type": "execute_result"
    }
   ],
   "source": [
    "mmt_data.dtypes"
   ]
  },
  {
   "cell_type": "code",
   "execution_count": 17,
   "metadata": {
    "scrolled": true
   },
   "outputs": [
    {
     "name": "stdout",
     "output_type": "stream",
     "text": [
      "<class 'pandas.core.frame.DataFrame'>\n",
      "RangeIndex: 100000 entries, 0 to 99999\n",
      "Data columns (total 11 columns):\n",
      "userid           100000 non-null object\n",
      "signup_date      100000 non-null datetime64[ns]\n",
      "wallet           96950 non-null float64\n",
      "tier             100000 non-null object\n",
      "txns             100000 non-null int64\n",
      "sync_tag         100000 non-null object\n",
      "operator_name    44447 non-null object\n",
      "state            44447 non-null object\n",
      "app_status       100000 non-null object\n",
      "segment          27481 non-null object\n",
      "task             10323 non-null float64\n",
      "dtypes: datetime64[ns](1), float64(2), int64(1), object(7)\n",
      "memory usage: 8.4+ MB\n"
     ]
    }
   ],
   "source": [
    "mmt_data.info()"
   ]
  },
  {
   "cell_type": "markdown",
   "metadata": {},
   "source": [
    "#### Null Values"
   ]
  },
  {
   "cell_type": "code",
   "execution_count": 5,
   "metadata": {},
   "outputs": [
    {
     "data": {
      "text/plain": [
       "userid            0.000\n",
       "signup_date       0.000\n",
       "wallet            3.050\n",
       "tier              0.000\n",
       "txns              0.000\n",
       "sync_tag          0.000\n",
       "operator_name    55.553\n",
       "state            55.553\n",
       "app_status        0.000\n",
       "segment          72.519\n",
       "task             89.677\n",
       "dtype: float64"
      ]
     },
     "execution_count": 5,
     "metadata": {},
     "output_type": "execute_result"
    }
   ],
   "source": [
    "mmt_data.isnull().sum()/100000*100"
   ]
  },
  {
   "cell_type": "markdown",
   "metadata": {},
   "source": [
    "- 3% null values in wallet\n",
    "- 55.55% null values in operator name \n",
    "- 55.55% null values in state\n",
    "- 72% null values in segment\n",
    "- 89% null values in task"
   ]
  },
  {
   "cell_type": "markdown",
   "metadata": {},
   "source": [
    "<a id=section204></a>"
   ]
  },
  {
   "cell_type": "markdown",
   "metadata": {},
   "source": [
    "### 2.4 Column-wise Analysis"
   ]
  },
  {
   "cell_type": "markdown",
   "metadata": {},
   "source": [
    "##### User id"
   ]
  },
  {
   "cell_type": "code",
   "execution_count": 6,
   "metadata": {},
   "outputs": [
    {
     "data": {
      "text/plain": [
       "0"
      ]
     },
     "execution_count": 6,
     "metadata": {},
     "output_type": "execute_result"
    }
   ],
   "source": [
    "mmt_data['userid'].isnull().sum()"
   ]
  },
  {
   "cell_type": "markdown",
   "metadata": {},
   "source": [
    "- No null values."
   ]
  },
  {
   "cell_type": "code",
   "execution_count": 7,
   "metadata": {},
   "outputs": [
    {
     "data": {
      "text/plain": [
       "100000"
      ]
     },
     "execution_count": 7,
     "metadata": {},
     "output_type": "execute_result"
    }
   ],
   "source": [
    "len(mmt_data['userid'].unique())"
   ]
  },
  {
   "cell_type": "markdown",
   "metadata": {},
   "source": [
    "- There are no duplicates in 'userid'."
   ]
  },
  {
   "cell_type": "markdown",
   "metadata": {},
   "source": [
    "##### sign up date"
   ]
  },
  {
   "cell_type": "code",
   "execution_count": 8,
   "metadata": {},
   "outputs": [
    {
     "data": {
      "text/plain": [
       "0"
      ]
     },
     "execution_count": 8,
     "metadata": {},
     "output_type": "execute_result"
    }
   ],
   "source": [
    "mmt_data['signup_date'].isnull().sum()"
   ]
  },
  {
   "cell_type": "markdown",
   "metadata": {},
   "source": [
    "- No null values."
   ]
  },
  {
   "cell_type": "code",
   "execution_count": 9,
   "metadata": {
    "scrolled": false
   },
   "outputs": [
    {
     "data": {
      "text/plain": [
       "1362"
      ]
     },
     "execution_count": 9,
     "metadata": {},
     "output_type": "execute_result"
    }
   ],
   "source": [
    "len(mmt_data['signup_date'].unique())"
   ]
  },
  {
   "cell_type": "markdown",
   "metadata": {},
   "source": [
    "- Check for unique values in year.\n",
    "- Check for unique values in month."
   ]
  },
  {
   "cell_type": "code",
   "execution_count": 10,
   "metadata": {},
   "outputs": [
    {
     "data": {
      "text/plain": [
       "0    2010\n",
       "1    2010\n",
       "2    2010\n",
       "3    2011\n",
       "4    2011\n",
       "Name: signup_date, dtype: int64"
      ]
     },
     "execution_count": 10,
     "metadata": {},
     "output_type": "execute_result"
    }
   ],
   "source": [
    "#Exr=tracting year from the dates\n",
    "year = mmt_data.signup_date.dt.year\n",
    "year.head()\n"
   ]
  },
  {
   "cell_type": "code",
   "execution_count": 11,
   "metadata": {},
   "outputs": [
    {
     "data": {
      "text/plain": [
       "array([2010, 2011, 2012, 2009, 2013], dtype=int64)"
      ]
     },
     "execution_count": 11,
     "metadata": {},
     "output_type": "execute_result"
    }
   ],
   "source": [
    "year.unique()"
   ]
  },
  {
   "cell_type": "markdown",
   "metadata": {},
   "source": [
    "- We have values of the following months."
   ]
  },
  {
   "cell_type": "code",
   "execution_count": 12,
   "metadata": {},
   "outputs": [
    {
     "data": {
      "text/plain": [
       "0    10\n",
       "1    11\n",
       "2    12\n",
       "3     5\n",
       "4     7\n",
       "Name: signup_date, dtype: int64"
      ]
     },
     "execution_count": 12,
     "metadata": {},
     "output_type": "execute_result"
    }
   ],
   "source": [
    "#Extracting months from dates\n",
    "month = mmt_data.signup_date.dt.month\n",
    "month.head()"
   ]
  },
  {
   "cell_type": "code",
   "execution_count": 13,
   "metadata": {},
   "outputs": [
    {
     "data": {
      "text/plain": [
       "array([10, 11, 12,  5,  7,  9,  1,  2,  3,  6,  4,  8], dtype=int64)"
      ]
     },
     "execution_count": 13,
     "metadata": {},
     "output_type": "execute_result"
    }
   ],
   "source": [
    "month.unique()"
   ]
  },
  {
   "cell_type": "code",
   "execution_count": 14,
   "metadata": {},
   "outputs": [],
   "source": [
    "mmt_data1 = mmt_data.copy() #creating to copy to make changes in the copy."
   ]
  },
  {
   "cell_type": "code",
   "execution_count": 15,
   "metadata": {},
   "outputs": [],
   "source": [
    "mmt_data1['year'] = year"
   ]
  },
  {
   "cell_type": "code",
   "execution_count": 16,
   "metadata": {},
   "outputs": [
    {
     "data": {
      "text/html": [
       "<div>\n",
       "<style scoped>\n",
       "    .dataframe tbody tr th:only-of-type {\n",
       "        vertical-align: middle;\n",
       "    }\n",
       "\n",
       "    .dataframe tbody tr th {\n",
       "        vertical-align: top;\n",
       "    }\n",
       "\n",
       "    .dataframe thead th {\n",
       "        text-align: right;\n",
       "    }\n",
       "</style>\n",
       "<table border=\"1\" class=\"dataframe\">\n",
       "  <thead>\n",
       "    <tr style=\"text-align: right;\">\n",
       "      <th></th>\n",
       "      <th>userid</th>\n",
       "      <th>signup_date</th>\n",
       "      <th>wallet</th>\n",
       "      <th>tier</th>\n",
       "      <th>txns</th>\n",
       "      <th>sync_tag</th>\n",
       "      <th>operator_name</th>\n",
       "      <th>state</th>\n",
       "      <th>app_status</th>\n",
       "      <th>segment</th>\n",
       "      <th>task</th>\n",
       "      <th>year</th>\n",
       "    </tr>\n",
       "  </thead>\n",
       "  <tbody>\n",
       "    <tr>\n",
       "      <td>0</td>\n",
       "      <td>7cb3f42379df52fb7c22a44c27399c3177bd99d2</td>\n",
       "      <td>2010-10-26</td>\n",
       "      <td>0.0</td>\n",
       "      <td>Silver</td>\n",
       "      <td>56</td>\n",
       "      <td>yes</td>\n",
       "      <td>Aircel</td>\n",
       "      <td>Assam</td>\n",
       "      <td>Y</td>\n",
       "      <td>ios_mid</td>\n",
       "      <td>NaN</td>\n",
       "      <td>2010</td>\n",
       "    </tr>\n",
       "    <tr>\n",
       "      <td>1</td>\n",
       "      <td>f233e57f7a6fcd4dde48ab163bcb8f1d4e960300</td>\n",
       "      <td>2010-11-01</td>\n",
       "      <td>0.0</td>\n",
       "      <td>Bronze</td>\n",
       "      <td>5</td>\n",
       "      <td>yes</td>\n",
       "      <td>Vodafone</td>\n",
       "      <td>Andhra Pradesh</td>\n",
       "      <td>N</td>\n",
       "      <td>NaN</td>\n",
       "      <td>NaN</td>\n",
       "      <td>2010</td>\n",
       "    </tr>\n",
       "    <tr>\n",
       "      <td>2</td>\n",
       "      <td>269f4f812dd5574240101fe2585d2e5b9ac8ba2c</td>\n",
       "      <td>2010-12-21</td>\n",
       "      <td>0.0</td>\n",
       "      <td>Bronze</td>\n",
       "      <td>1</td>\n",
       "      <td>yes</td>\n",
       "      <td>Airtel</td>\n",
       "      <td>Andhra Pradesh</td>\n",
       "      <td>Y</td>\n",
       "      <td>android_mid</td>\n",
       "      <td>2.0</td>\n",
       "      <td>2010</td>\n",
       "    </tr>\n",
       "    <tr>\n",
       "      <td>3</td>\n",
       "      <td>bc9df7db16d7e5bdda4cc0b9d650014304c67dda</td>\n",
       "      <td>2011-05-02</td>\n",
       "      <td>0.0</td>\n",
       "      <td>Bronze</td>\n",
       "      <td>3</td>\n",
       "      <td>No</td>\n",
       "      <td>NaN</td>\n",
       "      <td>NaN</td>\n",
       "      <td>N</td>\n",
       "      <td>NaN</td>\n",
       "      <td>NaN</td>\n",
       "      <td>2011</td>\n",
       "    </tr>\n",
       "    <tr>\n",
       "      <td>4</td>\n",
       "      <td>6bc67af161cdfbb59a3e5ecec50646017ae7d9eb</td>\n",
       "      <td>2011-07-08</td>\n",
       "      <td>0.0</td>\n",
       "      <td>Bronze</td>\n",
       "      <td>2</td>\n",
       "      <td>No</td>\n",
       "      <td>NaN</td>\n",
       "      <td>NaN</td>\n",
       "      <td>N</td>\n",
       "      <td>NaN</td>\n",
       "      <td>NaN</td>\n",
       "      <td>2011</td>\n",
       "    </tr>\n",
       "  </tbody>\n",
       "</table>\n",
       "</div>"
      ],
      "text/plain": [
       "                                     userid signup_date  wallet    tier  txns  \\\n",
       "0  7cb3f42379df52fb7c22a44c27399c3177bd99d2  2010-10-26     0.0  Silver    56   \n",
       "1  f233e57f7a6fcd4dde48ab163bcb8f1d4e960300  2010-11-01     0.0  Bronze     5   \n",
       "2  269f4f812dd5574240101fe2585d2e5b9ac8ba2c  2010-12-21     0.0  Bronze     1   \n",
       "3  bc9df7db16d7e5bdda4cc0b9d650014304c67dda  2011-05-02     0.0  Bronze     3   \n",
       "4  6bc67af161cdfbb59a3e5ecec50646017ae7d9eb  2011-07-08     0.0  Bronze     2   \n",
       "\n",
       "  sync_tag operator_name           state app_status      segment  task  year  \n",
       "0      yes        Aircel           Assam          Y      ios_mid   NaN  2010  \n",
       "1      yes      Vodafone  Andhra Pradesh          N          NaN   NaN  2010  \n",
       "2      yes        Airtel  Andhra Pradesh          Y  android_mid   2.0  2010  \n",
       "3       No           NaN             NaN          N          NaN   NaN  2011  \n",
       "4       No           NaN             NaN          N          NaN   NaN  2011  "
      ]
     },
     "execution_count": 16,
     "metadata": {},
     "output_type": "execute_result"
    }
   ],
   "source": [
    "mmt_data1.head()"
   ]
  },
  {
   "cell_type": "code",
   "execution_count": 62,
   "metadata": {},
   "outputs": [
    {
     "data": {
      "image/png": "[encoded data removed]",
      "text/plain": [
       "<Figure size 1080x576 with 1 Axes>"
      ]
     },
     "metadata": {
      "needs_background": "light"
     },
     "output_type": "display_data"
    }
   ],
   "source": [
    "#Plotting count of signups over the years\n",
    "plt.figure(figsize=(15,8))\n",
    "plt.xticks(fontsize = 12)\n",
    "plt.xlabel('Year', fontsize = 15)\n",
    "plt.yticks(fontsize = 12)\n",
    "plt.ylabel('Count', fontsize = 15)\n",
    "sns.countplot(x='year', data=mmt_data1).set_title('Count of signups over years')\n",
    "plt.savefig('Count plot for year.png', bbox_inches='tight')"
   ]
  },
  {
   "cell_type": "markdown",
   "metadata": {},
   "source": [
    "- There has been tremendous increase in signups over the years."
   ]
  },
  {
   "cell_type": "code",
   "execution_count": 63,
   "metadata": {
    "scrolled": false
   },
   "outputs": [
    {
     "data": {
      "image/png": "[encoded data removed]",
      "text/plain": [
       "<Figure size 1080x576 with 1 Axes>"
      ]
     },
     "metadata": {
      "needs_background": "light"
     },
     "output_type": "display_data"
    }
   ],
   "source": [
    "#Plotting count of signups over the years wrt to app status\n",
    "plt.figure(figsize=(15,8))\n",
    "plt.xticks(fontsize = 12)\n",
    "plt.xlabel('Year', fontsize = 15)\n",
    "plt.yticks(fontsize = 12)\n",
    "plt.ylabel('Count', fontsize = 15)\n",
    "sns.countplot(x='year', data=mmt_data1, hue = 'app_status').set_title('Count of signups over the years wrt to app status')\n",
    "plt.savefig('Count plot for year wrt to app status.png', bbox_inches='tight')"
   ]
  },
  {
   "cell_type": "code",
   "execution_count": 18,
   "metadata": {},
   "outputs": [
    {
     "data": {
      "image/png": "[encoded data removed]",
      "text/plain": [
       "<Figure size 1080x576 with 1 Axes>"
      ]
     },
     "metadata": {
      "needs_background": "light"
     },
     "output_type": "display_data"
    }
   ],
   "source": [
    "#Plotting count of signups over the years wrt to app status\n",
    "plt.figure(figsize=(15,8))\n",
    "plt.xticks(fontsize = 12)\n",
    "plt.xlabel('Year', fontsize = 15)\n",
    "plt.yticks(fontsize = 12)\n",
    "plt.ylabel('Count', fontsize = 15)\n",
    "sns.countplot(x='year', data=mmt_data1, hue = 'tier').set_title('Count of signups over the years wrt to tiers')\n",
    "plt.savefig('Count plot for year wrt to app tiers.png', bbox_inches='tight')"
   ]
  },
  {
   "cell_type": "code",
   "execution_count": 35,
   "metadata": {
    "scrolled": true
   },
   "outputs": [
    {
     "data": {
      "text/html": [
       "<div>\n",
       "<style scoped>\n",
       "    .dataframe tbody tr th:only-of-type {\n",
       "        vertical-align: middle;\n",
       "    }\n",
       "\n",
       "    .dataframe tbody tr th {\n",
       "        vertical-align: top;\n",
       "    }\n",
       "\n",
       "    .dataframe thead th {\n",
       "        text-align: right;\n",
       "    }\n",
       "</style>\n",
       "<table border=\"1\" class=\"dataframe\">\n",
       "  <thead>\n",
       "    <tr style=\"text-align: right;\">\n",
       "      <th></th>\n",
       "      <th>userid</th>\n",
       "      <th>signup_date</th>\n",
       "      <th>wallet</th>\n",
       "      <th>tier</th>\n",
       "      <th>txns</th>\n",
       "      <th>sync_tag</th>\n",
       "      <th>operator_name</th>\n",
       "      <th>state</th>\n",
       "      <th>app_status</th>\n",
       "      <th>segment</th>\n",
       "      <th>task</th>\n",
       "      <th>year</th>\n",
       "      <th>month</th>\n",
       "    </tr>\n",
       "  </thead>\n",
       "  <tbody>\n",
       "    <tr>\n",
       "      <td>0</td>\n",
       "      <td>7cb3f42379df52fb7c22a44c27399c3177bd99d2</td>\n",
       "      <td>2010-10-26</td>\n",
       "      <td>0.0</td>\n",
       "      <td>Silver</td>\n",
       "      <td>56</td>\n",
       "      <td>yes</td>\n",
       "      <td>Aircel</td>\n",
       "      <td>Assam</td>\n",
       "      <td>Y</td>\n",
       "      <td>ios_mid</td>\n",
       "      <td>NaN</td>\n",
       "      <td>2010</td>\n",
       "      <td>10</td>\n",
       "    </tr>\n",
       "    <tr>\n",
       "      <td>1</td>\n",
       "      <td>f233e57f7a6fcd4dde48ab163bcb8f1d4e960300</td>\n",
       "      <td>2010-11-01</td>\n",
       "      <td>0.0</td>\n",
       "      <td>Bronze</td>\n",
       "      <td>5</td>\n",
       "      <td>yes</td>\n",
       "      <td>Vodafone</td>\n",
       "      <td>Andhra Pradesh</td>\n",
       "      <td>N</td>\n",
       "      <td>NaN</td>\n",
       "      <td>NaN</td>\n",
       "      <td>2010</td>\n",
       "      <td>11</td>\n",
       "    </tr>\n",
       "    <tr>\n",
       "      <td>2</td>\n",
       "      <td>269f4f812dd5574240101fe2585d2e5b9ac8ba2c</td>\n",
       "      <td>2010-12-21</td>\n",
       "      <td>0.0</td>\n",
       "      <td>Bronze</td>\n",
       "      <td>1</td>\n",
       "      <td>yes</td>\n",
       "      <td>Airtel</td>\n",
       "      <td>Andhra Pradesh</td>\n",
       "      <td>Y</td>\n",
       "      <td>android_mid</td>\n",
       "      <td>2.0</td>\n",
       "      <td>2010</td>\n",
       "      <td>12</td>\n",
       "    </tr>\n",
       "    <tr>\n",
       "      <td>3</td>\n",
       "      <td>bc9df7db16d7e5bdda4cc0b9d650014304c67dda</td>\n",
       "      <td>2011-05-02</td>\n",
       "      <td>0.0</td>\n",
       "      <td>Bronze</td>\n",
       "      <td>3</td>\n",
       "      <td>No</td>\n",
       "      <td>NaN</td>\n",
       "      <td>NaN</td>\n",
       "      <td>N</td>\n",
       "      <td>NaN</td>\n",
       "      <td>NaN</td>\n",
       "      <td>2011</td>\n",
       "      <td>5</td>\n",
       "    </tr>\n",
       "    <tr>\n",
       "      <td>4</td>\n",
       "      <td>6bc67af161cdfbb59a3e5ecec50646017ae7d9eb</td>\n",
       "      <td>2011-07-08</td>\n",
       "      <td>0.0</td>\n",
       "      <td>Bronze</td>\n",
       "      <td>2</td>\n",
       "      <td>No</td>\n",
       "      <td>NaN</td>\n",
       "      <td>NaN</td>\n",
       "      <td>N</td>\n",
       "      <td>NaN</td>\n",
       "      <td>NaN</td>\n",
       "      <td>2011</td>\n",
       "      <td>7</td>\n",
       "    </tr>\n",
       "  </tbody>\n",
       "</table>\n",
       "</div>"
      ],
      "text/plain": [
       "                                     userid signup_date  wallet    tier  txns  \\\n",
       "0  7cb3f42379df52fb7c22a44c27399c3177bd99d2  2010-10-26     0.0  Silver    56   \n",
       "1  f233e57f7a6fcd4dde48ab163bcb8f1d4e960300  2010-11-01     0.0  Bronze     5   \n",
       "2  269f4f812dd5574240101fe2585d2e5b9ac8ba2c  2010-12-21     0.0  Bronze     1   \n",
       "3  bc9df7db16d7e5bdda4cc0b9d650014304c67dda  2011-05-02     0.0  Bronze     3   \n",
       "4  6bc67af161cdfbb59a3e5ecec50646017ae7d9eb  2011-07-08     0.0  Bronze     2   \n",
       "\n",
       "  sync_tag operator_name           state app_status      segment  task  year  \\\n",
       "0      yes        Aircel           Assam          Y      ios_mid   NaN  2010   \n",
       "1      yes      Vodafone  Andhra Pradesh          N          NaN   NaN  2010   \n",
       "2      yes        Airtel  Andhra Pradesh          Y  android_mid   2.0  2010   \n",
       "3       No           NaN             NaN          N          NaN   NaN  2011   \n",
       "4       No           NaN             NaN          N          NaN   NaN  2011   \n",
       "\n",
       "   month  \n",
       "0     10  \n",
       "1     11  \n",
       "2     12  \n",
       "3      5  \n",
       "4      7  "
      ]
     },
     "execution_count": 35,
     "metadata": {},
     "output_type": "execute_result"
    }
   ],
   "source": [
    "#Adding months column to dataframe\n",
    "mmt_data1['month'] = month\n",
    "mmt_data1.head()"
   ]
  },
  {
   "cell_type": "code",
   "execution_count": 65,
   "metadata": {},
   "outputs": [
    {
     "data": {
      "image/png": "[encoded data removed]",
      "text/plain": [
       "<Figure size 1080x576 with 1 Axes>"
      ]
     },
     "metadata": {
      "needs_background": "light"
     },
     "output_type": "display_data"
    }
   ],
   "source": [
    "#Plotting count of signups over the months\n",
    "plt.figure(figsize=(15,8))\n",
    "plt.xticks(fontsize = 12)\n",
    "plt.xlabel('Month', fontsize = 15)\n",
    "plt.yticks(fontsize = 12)\n",
    "plt.ylabel('Count', fontsize = 15)\n",
    "sns.countplot(x='month', data=mmt_data1).set_title('Count of signups over months')\n",
    "plt.savefig('Count plot for months.png', bbox_inches='tight')"
   ]
  },
  {
   "cell_type": "markdown",
   "metadata": {},
   "source": [
    "- Neglecting the year of signup, maximum signups has been in the month of 'April'"
   ]
  },
  {
   "cell_type": "markdown",
   "metadata": {},
   "source": [
    "### Wallet"
   ]
  },
  {
   "cell_type": "code",
   "execution_count": 10,
   "metadata": {},
   "outputs": [
    {
     "data": {
      "text/plain": [
       "3.05"
      ]
     },
     "execution_count": 10,
     "metadata": {},
     "output_type": "execute_result"
    }
   ],
   "source": [
    "mmt_data['wallet'].isnull().sum()/100000*100"
   ]
  },
  {
   "cell_type": "markdown",
   "metadata": {},
   "source": [
    "- 3.05% missing values."
   ]
  },
  {
   "cell_type": "code",
   "execution_count": 11,
   "metadata": {},
   "outputs": [
    {
     "data": {
      "text/plain": [
       "userid           6763\n",
       "signup_date      6763\n",
       "wallet           6763\n",
       "tier             6763\n",
       "txns             6763\n",
       "sync_tag         6763\n",
       "operator_name    6466\n",
       "state            6466\n",
       "app_status       6763\n",
       "segment          6302\n",
       "task             4720\n",
       "dtype: int64"
      ]
     },
     "execution_count": 11,
     "metadata": {},
     "output_type": "execute_result"
    }
   ],
   "source": [
    "mmt_data[mmt_data['wallet'] > 0].count()"
   ]
  },
  {
   "cell_type": "markdown",
   "metadata": {},
   "source": [
    "- Out of 1 lakh users only 6763 users have some amount in wallet, that is, 6.76%."
   ]
  },
  {
   "cell_type": "code",
   "execution_count": 12,
   "metadata": {},
   "outputs": [
    {
     "data": {
      "text/plain": [
       "2390.0"
      ]
     },
     "execution_count": 12,
     "metadata": {},
     "output_type": "execute_result"
    }
   ],
   "source": [
    "mmt_data['wallet'].max()"
   ]
  },
  {
   "cell_type": "markdown",
   "metadata": {},
   "source": [
    "- Maximum amount in wallet."
   ]
  },
  {
   "cell_type": "code",
   "execution_count": 13,
   "metadata": {},
   "outputs": [
    {
     "data": {
      "text/plain": [
       "0.0"
      ]
     },
     "execution_count": 13,
     "metadata": {},
     "output_type": "execute_result"
    }
   ],
   "source": [
    "mmt_data['wallet'].min()"
   ]
  },
  {
   "cell_type": "code",
   "execution_count": 14,
   "metadata": {},
   "outputs": [
    {
     "data": {
      "text/plain": [
       "0    0.0\n",
       "dtype: float64"
      ]
     },
     "execution_count": 14,
     "metadata": {},
     "output_type": "execute_result"
    }
   ],
   "source": [
    "mmt_data['wallet'].mode()"
   ]
  },
  {
   "cell_type": "code",
   "execution_count": 15,
   "metadata": {},
   "outputs": [
    {
     "data": {
      "text/plain": [
       "0.0"
      ]
     },
     "execution_count": 15,
     "metadata": {},
     "output_type": "execute_result"
    }
   ],
   "source": [
    "mmt_data['wallet'].median()"
   ]
  },
  {
   "cell_type": "markdown",
   "metadata": {},
   "source": [
    "So, replacing null values with mode value."
   ]
  },
  {
   "cell_type": "code",
   "execution_count": 3,
   "metadata": {},
   "outputs": [],
   "source": [
    "#Replacing null values with mode value\n",
    "mmt_data['wallet']= mmt_data['wallet'].fillna(0.0)"
   ]
  },
  {
   "cell_type": "code",
   "execution_count": 4,
   "metadata": {},
   "outputs": [
    {
     "data": {
      "text/plain": [
       "0"
      ]
     },
     "execution_count": 4,
     "metadata": {},
     "output_type": "execute_result"
    }
   ],
   "source": [
    "mmt_data['wallet'].isnull().sum()"
   ]
  },
  {
   "cell_type": "code",
   "execution_count": 101,
   "metadata": {},
   "outputs": [
    {
     "data": {
      "image/png": "[encoded data removed]",
      "text/plain": [
       "<Figure size 432x288 with 1 Axes>"
      ]
     },
     "metadata": {
      "needs_background": "light"
     },
     "output_type": "display_data"
    },
    {
     "data": {
      "text/plain": [
       "<Figure size 1080x720 with 0 Axes>"
      ]
     },
     "metadata": {},
     "output_type": "display_data"
    }
   ],
   "source": [
    "#To check distribution of wallet amounts\n",
    "sns.kdeplot(mmt_data['wallet'], shade = True)\n",
    "plt.figure(figsize = (15,10))\n",
    "plt.savefig('Distribution of wallet amount.png', bbox_inches='tight')"
   ]
  },
  {
   "cell_type": "markdown",
   "metadata": {},
   "source": [
    "- Left skewed data with maximum having 0 balance in wallet.\n",
    "- Not many users use MMT Wallet"
   ]
  },
  {
   "cell_type": "markdown",
   "metadata": {},
   "source": [
    "### tier"
   ]
  },
  {
   "cell_type": "code",
   "execution_count": 20,
   "metadata": {},
   "outputs": [
    {
     "data": {
      "text/plain": [
       "0"
      ]
     },
     "execution_count": 20,
     "metadata": {},
     "output_type": "execute_result"
    }
   ],
   "source": [
    "mmt_data['tier'].isnull().sum()"
   ]
  },
  {
   "cell_type": "markdown",
   "metadata": {},
   "source": [
    "- No null values."
   ]
  },
  {
   "cell_type": "code",
   "execution_count": 21,
   "metadata": {},
   "outputs": [
    {
     "data": {
      "text/plain": [
       "array(['Silver', 'Bronze', 'Gold', 'Platinum', 'Titanium'], dtype=object)"
      ]
     },
     "execution_count": 21,
     "metadata": {},
     "output_type": "execute_result"
    }
   ],
   "source": [
    "mmt_data['tier'].unique()  #Findimg unique values in this column"
   ]
  },
  {
   "cell_type": "code",
   "execution_count": 9,
   "metadata": {},
   "outputs": [
    {
     "data": {
      "text/plain": [
       "Bronze      83870\n",
       "Silver      12337\n",
       "Gold         3027\n",
       "Platinum      685\n",
       "Titanium       81\n",
       "Name: tier, dtype: int64"
      ]
     },
     "execution_count": 9,
     "metadata": {},
     "output_type": "execute_result"
    }
   ],
   "source": [
    "mmt_data['tier'].value_counts()"
   ]
  },
  {
   "cell_type": "code",
   "execution_count": 74,
   "metadata": {},
   "outputs": [
    {
     "data": {
      "image/png": "[encoded data removed]",
      "text/plain": [
       "<Figure size 1080x1080 with 1 Axes>"
      ]
     },
     "metadata": {},
     "output_type": "display_data"
    }
   ],
   "source": [
    "plt.figure(figsize=(15,15))\n",
    "mmt_data['tier'].value_counts().plot(kind='pie', wedgeprops=dict(width=0.25),\n",
    "                                      fontsize=15, autopct='%3.1f%%', figsize=(15,15), \n",
    "                                       startangle=135,  cmap='summer')\n",
    "\n",
    "plt.ylabel('Tier', fontsize = 15)\n",
    "plt.title('Donut Plot showing the Proportion of Tiers', fontsize = 20)\n",
    "plt.legend(fontsize =15)\n",
    "plt.savefig('Donut Plot showing the proportion of Tiers.png')\n"
   ]
  },
  {
   "cell_type": "code",
   "execution_count": 31,
   "metadata": {},
   "outputs": [
    {
     "data": {
      "text/plain": [
       "Text(0, 0.5, 'Number of Users')"
      ]
     },
     "execution_count": 31,
     "metadata": {},
     "output_type": "execute_result"
    },
    {
     "data": {
      "image/png": "[encoded data removed]",
      "text/plain": [
       "<Figure size 1080x720 with 1 Axes>"
      ]
     },
     "metadata": {
      "needs_background": "light"
     },
     "output_type": "display_data"
    }
   ],
   "source": [
    "mmt_data['tier'].value_counts().sort_index().plot(kind = 'bar', figsize = (15,10), colormap = 'Dark2', fontsize = 15)\n",
    "plt.yticks(np.arange(0,100000,5000))\n",
    "plt.xlabel('Tier', fontsize = 15)\n",
    "plt.ylabel('Number of Users', fontsize = 15)\n",
    "#plt.title('Year Distribution of Top 10 Movies', fontsize = 20)\n",
    "#plt.savefig('Year Distribution of Top 10 Movies.png')"
   ]
  },
  {
   "cell_type": "markdown",
   "metadata": {},
   "source": [
    "### txns - total number of transactions"
   ]
  },
  {
   "cell_type": "code",
   "execution_count": 38,
   "metadata": {},
   "outputs": [
    {
     "data": {
      "text/plain": [
       "0"
      ]
     },
     "execution_count": 38,
     "metadata": {},
     "output_type": "execute_result"
    }
   ],
   "source": [
    "mmt_data['txns'].isnull().sum()"
   ]
  },
  {
   "cell_type": "markdown",
   "metadata": {},
   "source": [
    "- No null values"
   ]
  },
  {
   "cell_type": "code",
   "execution_count": 75,
   "metadata": {
    "scrolled": true
   },
   "outputs": [
    {
     "data": {
      "image/png": "[encoded data removed]",
      "text/plain": [
       "<Figure size 432x288 with 1 Axes>"
      ]
     },
     "metadata": {
      "needs_background": "light"
     },
     "output_type": "display_data"
    },
    {
     "data": {
      "text/plain": [
       "<Figure size 1080x720 with 0 Axes>"
      ]
     },
     "metadata": {},
     "output_type": "display_data"
    }
   ],
   "source": [
    "#To check distribution of wallet amounts\n",
    "sns.kdeplot(mmt_data['txns'], shade = True)\n",
    "plt.figure( figsize = (15,10))\n",
    "plt.savefig('Distribution of Number of Transaction.png')"
   ]
  },
  {
   "cell_type": "code",
   "execution_count": 43,
   "metadata": {},
   "outputs": [
    {
     "data": {
      "text/plain": [
       "9882"
      ]
     },
     "execution_count": 43,
     "metadata": {},
     "output_type": "execute_result"
    }
   ],
   "source": [
    "mmt_data['txns'].max()"
   ]
  },
  {
   "cell_type": "code",
   "execution_count": 44,
   "metadata": {},
   "outputs": [
    {
     "data": {
      "text/plain": [
       "1"
      ]
     },
     "execution_count": 44,
     "metadata": {},
     "output_type": "execute_result"
    }
   ],
   "source": [
    "mmt_data['txns'].min()"
   ]
  },
  {
   "cell_type": "code",
   "execution_count": 42,
   "metadata": {},
   "outputs": [
    {
     "data": {
      "text/plain": [
       "userid           0\n",
       "signup_date      0\n",
       "wallet           0\n",
       "tier             0\n",
       "txns             0\n",
       "sync_tag         0\n",
       "operator_name    0\n",
       "state            0\n",
       "app_status       0\n",
       "segment          0\n",
       "task             0\n",
       "dtype: int64"
      ]
     },
     "execution_count": 42,
     "metadata": {},
     "output_type": "execute_result"
    }
   ],
   "source": [
    "mmt_data[mmt_data['txns'] ==0].count()"
   ]
  },
  {
   "cell_type": "code",
   "execution_count": 40,
   "metadata": {
    "scrolled": true
   },
   "outputs": [
    {
     "data": {
      "text/plain": [
       "userid           33495\n",
       "signup_date      33495\n",
       "wallet           32193\n",
       "tier             33495\n",
       "txns             33495\n",
       "sync_tag         33495\n",
       "operator_name     7444\n",
       "state             7444\n",
       "app_status       33495\n",
       "segment           3179\n",
       "task               867\n",
       "dtype: int64"
      ]
     },
     "execution_count": 40,
     "metadata": {},
     "output_type": "execute_result"
    }
   ],
   "source": [
    "mmt_data[mmt_data['txns'] ==1].count()"
   ]
  },
  {
   "cell_type": "markdown",
   "metadata": {},
   "source": [
    "- Out of 100000 users, 33495 (33.4%) transacted only once."
   ]
  },
  {
   "cell_type": "code",
   "execution_count": 45,
   "metadata": {
    "scrolled": true
   },
   "outputs": [
    {
     "data": {
      "text/plain": [
       "userid           15325\n",
       "signup_date      15325\n",
       "wallet           14785\n",
       "tier             15325\n",
       "txns             15325\n",
       "sync_tag         15325\n",
       "operator_name     5078\n",
       "state             5078\n",
       "app_status       15325\n",
       "segment           2387\n",
       "task               645\n",
       "dtype: int64"
      ]
     },
     "execution_count": 45,
     "metadata": {},
     "output_type": "execute_result"
    }
   ],
   "source": [
    "mmt_data[mmt_data['txns'] == 2].count()"
   ]
  },
  {
   "cell_type": "code",
   "execution_count": 56,
   "metadata": {},
   "outputs": [
    {
     "data": {
      "text/plain": [
       "userid           66505\n",
       "signup_date      66505\n",
       "wallet           64757\n",
       "tier             66505\n",
       "txns             66505\n",
       "sync_tag         66505\n",
       "operator_name    37003\n",
       "state            37003\n",
       "app_status       66505\n",
       "segment          24302\n",
       "task              9456\n",
       "dtype: int64"
      ]
     },
     "execution_count": 56,
     "metadata": {},
     "output_type": "execute_result"
    }
   ],
   "source": [
    "mmt_data[mmt_data['txns'] > 1].count()"
   ]
  },
  {
   "cell_type": "markdown",
   "metadata": {},
   "source": [
    "### sync_tag"
   ]
  },
  {
   "cell_type": "code",
   "execution_count": 53,
   "metadata": {},
   "outputs": [
    {
     "data": {
      "text/plain": [
       "0"
      ]
     },
     "execution_count": 53,
     "metadata": {},
     "output_type": "execute_result"
    }
   ],
   "source": [
    "mmt_data['sync_tag'].isnull().sum()"
   ]
  },
  {
   "cell_type": "markdown",
   "metadata": {},
   "source": [
    "- No null values"
   ]
  },
  {
   "cell_type": "code",
   "execution_count": 54,
   "metadata": {},
   "outputs": [
    {
     "data": {
      "text/plain": [
       "array(['yes', 'No'], dtype=object)"
      ]
     },
     "execution_count": 54,
     "metadata": {},
     "output_type": "execute_result"
    }
   ],
   "source": [
    "mmt_data['sync_tag'].unique()"
   ]
  },
  {
   "cell_type": "code",
   "execution_count": 76,
   "metadata": {},
   "outputs": [
    {
     "data": {
      "image/png": "[encoded data removed]",
      "text/plain": [
       "<Figure size 720x720 with 1 Axes>"
      ]
     },
     "metadata": {},
     "output_type": "display_data"
    }
   ],
   "source": [
    "plt.figure(figsize=(15,15))\n",
    "mmt_data['sync_tag'].value_counts().plot(kind='pie', wedgeprops=dict(width=0.25),\n",
    "                                      fontsize=12, autopct='%3.1f%%', figsize=(10,10), \n",
    "                                       startangle=135,  cmap='summer')\n",
    "\n",
    "plt.ylabel('Sync Tag', fontsize = 15)\n",
    "plt.title('Donut Plot showing the Proportion of Sync-tag', fontsize = 20)\n",
    "plt.savefig('Donut Plot showing the Proportion of Sync-tag.png')"
   ]
  },
  {
   "cell_type": "markdown",
   "metadata": {},
   "source": [
    "- Majority of people do not tag their contacts."
   ]
  },
  {
   "cell_type": "markdown",
   "metadata": {},
   "source": [
    "### operator_name"
   ]
  },
  {
   "cell_type": "code",
   "execution_count": 82,
   "metadata": {
    "scrolled": true
   },
   "outputs": [
    {
     "data": {
      "text/plain": [
       "55.553"
      ]
     },
     "execution_count": 82,
     "metadata": {},
     "output_type": "execute_result"
    }
   ],
   "source": [
    "mmt_data['operator_name'].isnull().sum()/100000*100"
   ]
  },
  {
   "cell_type": "markdown",
   "metadata": {},
   "source": [
    "- 55.55% null values."
   ]
  },
  {
   "cell_type": "code",
   "execution_count": 58,
   "metadata": {
    "scrolled": true
   },
   "outputs": [
    {
     "data": {
      "text/plain": [
       "array(['Aircel', 'Vodafone', 'Airtel', nan, 'Jio', 'Reliance Mobile',\n",
       "       'Idea', 'Tata DoCoMo', 'BSNL', 'Uninor', 'Loop Mobile', 'DOLPHIN',\n",
       "       'MTS', 'Virgin', 'Videocon', 'S Tel Ltd', 'Telenor', '-',\n",
       "       'Etisalat', 'Subrin Rintel', 'Spice'], dtype=object)"
      ]
     },
     "execution_count": 58,
     "metadata": {},
     "output_type": "execute_result"
    }
   ],
   "source": [
    "mmt_data['operator_name'].unique()"
   ]
  },
  {
   "cell_type": "code",
   "execution_count": 77,
   "metadata": {
    "scrolled": true
   },
   "outputs": [
    {
     "data": {
      "text/plain": [
       "Airtel             15630\n",
       "Vodafone           13079\n",
       "Idea                3689\n",
       "BSNL                3488\n",
       "Tata DoCoMo         2915\n",
       "Reliance Mobile     2854\n",
       "Aircel              1253\n",
       "Jio                  622\n",
       "DOLPHIN              261\n",
       "Loop Mobile          216\n",
       "Telenor              119\n",
       "Videocon              93\n",
       "Uninor                84\n",
       "MTS                   78\n",
       "Virgin                21\n",
       "Etisalat              18\n",
       "-                     10\n",
       "S Tel Ltd              8\n",
       "Subrin Rintel          7\n",
       "Spice                  2\n",
       "Name: operator_name, dtype: int64"
      ]
     },
     "execution_count": 77,
     "metadata": {},
     "output_type": "execute_result"
    }
   ],
   "source": [
    "mmt_data['operator_name'].value_counts()"
   ]
  },
  {
   "cell_type": "markdown",
   "metadata": {
    "scrolled": true
   },
   "source": [
    "- Since it has 55.55% null values, we will drop this column while predicting."
   ]
  },
  {
   "cell_type": "code",
   "execution_count": 6,
   "metadata": {},
   "outputs": [
    {
     "data": {
      "text/plain": [
       "0    Airtel\n",
       "dtype: object"
      ]
     },
     "execution_count": 6,
     "metadata": {},
     "output_type": "execute_result"
    }
   ],
   "source": [
    "mmt_data['operator_name'].mode()"
   ]
  },
  {
   "cell_type": "markdown",
   "metadata": {},
   "source": [
    "### state"
   ]
  },
  {
   "cell_type": "code",
   "execution_count": 80,
   "metadata": {},
   "outputs": [
    {
     "data": {
      "text/plain": [
       "55.553"
      ]
     },
     "execution_count": 80,
     "metadata": {},
     "output_type": "execute_result"
    }
   ],
   "source": [
    "mmt_data['state'].isnull().sum()/100000*100"
   ]
  },
  {
   "cell_type": "markdown",
   "metadata": {},
   "source": [
    "- 55.55% null values."
   ]
  },
  {
   "cell_type": "code",
   "execution_count": 63,
   "metadata": {},
   "outputs": [
    {
     "data": {
      "text/plain": [
       "array(['Assam', 'Andhra Pradesh', nan, 'Tamil Nadu', 'Mumbai', 'Delhi',\n",
       "       'Maharashtra & Goa', 'Karnataka', 'Gujarat', 'Kerala',\n",
       "       'Madhya Pradesh', 'Orissa', 'Bihar', 'Haryana', 'Kolkata',\n",
       "       'Chennai', 'UP (East)', 'UP (West)', 'Rajasthan',\n",
       "       'Jammu and Kashmir', 'West Bengal', 'Punjab', 'North East',\n",
       "       'Himachal Pradesh', '-'], dtype=object)"
      ]
     },
     "execution_count": 63,
     "metadata": {},
     "output_type": "execute_result"
    }
   ],
   "source": [
    "mmt_data['state'].unique()"
   ]
  },
  {
   "cell_type": "code",
   "execution_count": 44,
   "metadata": {},
   "outputs": [
    {
     "data": {
      "text/plain": [
       "Karnataka            8542\n",
       "Delhi                6090\n",
       "Mumbai               4845\n",
       "Andhra Pradesh       4526\n",
       "Maharashtra & Goa    4206\n",
       "Gujarat              2446\n",
       "Tamil Nadu           2334\n",
       "Chennai              1481\n",
       "Kolkata              1220\n",
       "Madhya Pradesh       1178\n",
       "Rajasthan            1065\n",
       "Punjab                936\n",
       "UP (East)             861\n",
       "Kerala                742\n",
       "Bihar                 724\n",
       "UP (West)             620\n",
       "Orissa                587\n",
       "Assam                 468\n",
       "West Bengal           435\n",
       "Haryana               353\n",
       "Jammu and Kashmir     343\n",
       "North East            333\n",
       "Himachal Pradesh      109\n",
       "-                       3\n",
       "Name: state, dtype: int64"
      ]
     },
     "execution_count": 44,
     "metadata": {},
     "output_type": "execute_result"
    }
   ],
   "source": [
    "mmt_data['state'].value_counts()"
   ]
  },
  {
   "cell_type": "markdown",
   "metadata": {},
   "source": [
    "- Since it has 55.55% null values, we will drop this column while predicting."
   ]
  },
  {
   "cell_type": "markdown",
   "metadata": {},
   "source": [
    "### app status"
   ]
  },
  {
   "cell_type": "code",
   "execution_count": 64,
   "metadata": {},
   "outputs": [
    {
     "data": {
      "text/plain": [
       "0"
      ]
     },
     "execution_count": 64,
     "metadata": {},
     "output_type": "execute_result"
    }
   ],
   "source": [
    "mmt_data['app_status'].isnull().sum()"
   ]
  },
  {
   "cell_type": "code",
   "execution_count": 65,
   "metadata": {},
   "outputs": [
    {
     "data": {
      "text/plain": [
       "array(['Y', 'N'], dtype=object)"
      ]
     },
     "execution_count": 65,
     "metadata": {},
     "output_type": "execute_result"
    }
   ],
   "source": [
    "mmt_data['app_status'].unique()"
   ]
  },
  {
   "cell_type": "code",
   "execution_count": 75,
   "metadata": {},
   "outputs": [
    {
     "data": {
      "text/plain": [
       "userid           66341\n",
       "signup_date      66341\n",
       "wallet           64711\n",
       "tier             66341\n",
       "txns             66341\n",
       "sync_tag         66341\n",
       "operator_name    20369\n",
       "state            20369\n",
       "app_status       66341\n",
       "segment           6947\n",
       "task              1683\n",
       "dtype: int64"
      ]
     },
     "execution_count": 75,
     "metadata": {},
     "output_type": "execute_result"
    }
   ],
   "source": [
    "mmt_data[mmt_data['app_status']=='N'].count()"
   ]
  },
  {
   "cell_type": "code",
   "execution_count": 34,
   "metadata": {},
   "outputs": [
    {
     "data": {
      "image/png": "[encoded data removed]",
      "text/plain": [
       "<Figure size 720x720 with 1 Axes>"
      ]
     },
     "metadata": {},
     "output_type": "display_data"
    }
   ],
   "source": [
    "plt.figure(figsize=(15,15))\n",
    "mmt_data['app_status'].value_counts().plot(kind='pie', wedgeprops=dict(width=0.25),\n",
    "                                      fontsize=12, autopct='%3.1f%%', figsize=(10,10), \n",
    "                                       startangle=135,  cmap='summer')\n",
    "\n",
    "plt.ylabel('app_status', fontsize = 15)\n",
    "plt.title('Donut Plot showing the Proportion of app_status', fontsize = 20)\n",
    "plt.savefig('Count of app_status.png', bbox_inches='tight')"
   ]
  },
  {
   "cell_type": "markdown",
   "metadata": {},
   "source": [
    "- App based discounts are required."
   ]
  },
  {
   "cell_type": "markdown",
   "metadata": {},
   "source": [
    "### segment"
   ]
  },
  {
   "cell_type": "code",
   "execution_count": 45,
   "metadata": {
    "scrolled": true
   },
   "outputs": [
    {
     "data": {
      "text/plain": [
       "72.519"
      ]
     },
     "execution_count": 45,
     "metadata": {},
     "output_type": "execute_result"
    }
   ],
   "source": [
    "mmt_data['segment'].isnull().sum()/100000*100"
   ]
  },
  {
   "cell_type": "markdown",
   "metadata": {},
   "source": [
    "- 72.15% values are missing. So, we will drop this column while buiding a model."
   ]
  },
  {
   "cell_type": "code",
   "execution_count": 71,
   "metadata": {
    "scrolled": false
   },
   "outputs": [
    {
     "data": {
      "text/plain": [
       "array(['ios_mid', nan, 'android_mid', 'android_low', 'android_high',\n",
       "       'ios_high', 'ios_low'], dtype=object)"
      ]
     },
     "execution_count": 71,
     "metadata": {},
     "output_type": "execute_result"
    }
   ],
   "source": [
    "mmt_data['segment'].unique()"
   ]
  },
  {
   "cell_type": "markdown",
   "metadata": {},
   "source": [
    "### task - How many times customer has earned loyality money.\n"
   ]
  },
  {
   "cell_type": "code",
   "execution_count": 48,
   "metadata": {},
   "outputs": [
    {
     "data": {
      "text/plain": [
       "89.67699999999999"
      ]
     },
     "execution_count": 48,
     "metadata": {},
     "output_type": "execute_result"
    }
   ],
   "source": [
    "mmt_data['task'].isnull().sum()/100000*100"
   ]
  },
  {
   "cell_type": "markdown",
   "metadata": {},
   "source": [
    "- 89.67% values are missing. So, we will drop this column while buiding a model."
   ]
  },
  {
   "cell_type": "code",
   "execution_count": 82,
   "metadata": {},
   "outputs": [
    {
     "data": {
      "text/plain": [
       "count    10323.000000\n",
       "mean         8.185508\n",
       "std         12.833415\n",
       "min          0.000000\n",
       "25%          1.000000\n",
       "50%          3.000000\n",
       "75%          9.000000\n",
       "max        113.000000\n",
       "Name: task, dtype: float64"
      ]
     },
     "execution_count": 82,
     "metadata": {},
     "output_type": "execute_result"
    }
   ],
   "source": [
    "mmt_data['task'].describe()"
   ]
  },
  {
   "cell_type": "code",
   "execution_count": 85,
   "metadata": {},
   "outputs": [
    {
     "data": {
      "text/plain": [
       "0    1.0\n",
       "dtype: float64"
      ]
     },
     "execution_count": 85,
     "metadata": {},
     "output_type": "execute_result"
    }
   ],
   "source": [
    "mmt_data['task'].mode()"
   ]
  },
  {
   "cell_type": "code",
   "execution_count": 60,
   "metadata": {
    "scrolled": true
   },
   "outputs": [
    {
     "data": {
      "text/html": [
       "<div>\n",
       "<style scoped>\n",
       "    .dataframe tbody tr th:only-of-type {\n",
       "        vertical-align: middle;\n",
       "    }\n",
       "\n",
       "    .dataframe tbody tr th {\n",
       "        vertical-align: top;\n",
       "    }\n",
       "\n",
       "    .dataframe thead th {\n",
       "        text-align: right;\n",
       "    }\n",
       "</style>\n",
       "<table border=\"1\" class=\"dataframe\">\n",
       "  <thead>\n",
       "    <tr style=\"text-align: right;\">\n",
       "      <th></th>\n",
       "      <th>userid</th>\n",
       "      <th>signup_date</th>\n",
       "      <th>wallet</th>\n",
       "      <th>tier</th>\n",
       "      <th>txns</th>\n",
       "      <th>sync_tag</th>\n",
       "      <th>operator_name</th>\n",
       "      <th>state</th>\n",
       "      <th>app_status</th>\n",
       "      <th>task</th>\n",
       "    </tr>\n",
       "  </thead>\n",
       "  <tbody>\n",
       "    <tr>\n",
       "      <td>12850</td>\n",
       "      <td>94c3a9bda93025f1e51b053785e9f75c0bee979e</td>\n",
       "      <td>2010-08-23</td>\n",
       "      <td>340.0</td>\n",
       "      <td>Titanium</td>\n",
       "      <td>10</td>\n",
       "      <td>yes</td>\n",
       "      <td>Airtel</td>\n",
       "      <td>UP (West)</td>\n",
       "      <td>Y</td>\n",
       "      <td>113.0</td>\n",
       "    </tr>\n",
       "  </tbody>\n",
       "</table>\n",
       "</div>"
      ],
      "text/plain": [
       "                                         userid signup_date  wallet      tier  \\\n",
       "12850  94c3a9bda93025f1e51b053785e9f75c0bee979e  2010-08-23   340.0  Titanium   \n",
       "\n",
       "       txns sync_tag operator_name      state app_status   task  \n",
       "12850    10      yes        Airtel  UP (West)          Y  113.0  "
      ]
     },
     "execution_count": 60,
     "metadata": {},
     "output_type": "execute_result"
    }
   ],
   "source": [
    "mmt_data[mmt_data['task'] == 113]"
   ]
  },
  {
   "cell_type": "code",
   "execution_count": 83,
   "metadata": {
    "scrolled": true
   },
   "outputs": [
    {
     "data": {
      "text/plain": [
       "userid           1577\n",
       "signup_date      1577\n",
       "wallet           1573\n",
       "tier             1577\n",
       "txns             1577\n",
       "sync_tag         1577\n",
       "operator_name    1496\n",
       "state            1496\n",
       "app_status       1577\n",
       "task             1577\n",
       "dtype: int64"
      ]
     },
     "execution_count": 83,
     "metadata": {},
     "output_type": "execute_result"
    }
   ],
   "source": [
    "mmt_data[mmt_data['task'] == 0].count()"
   ]
  },
  {
   "cell_type": "code",
   "execution_count": 7,
   "metadata": {},
   "outputs": [
    {
     "data": {
      "text/plain": [
       "0    1.0\n",
       "dtype: float64"
      ]
     },
     "execution_count": 7,
     "metadata": {},
     "output_type": "execute_result"
    }
   ],
   "source": [
    "mmt_data['task'].mode()"
   ]
  },
  {
   "cell_type": "code",
   "execution_count": 61,
   "metadata": {
    "scrolled": true
   },
   "outputs": [
    {
     "name": "stderr",
     "output_type": "stream",
     "text": [
      "E:\\Anaconda\\lib\\site-packages\\statsmodels\\nonparametric\\kde.py:447: RuntimeWarning: invalid value encountered in greater\n",
      "  X = X[np.logical_and(X > clip[0], X < clip[1])] # won't work for two columns.\n",
      "E:\\Anaconda\\lib\\site-packages\\statsmodels\\nonparametric\\kde.py:447: RuntimeWarning: invalid value encountered in less\n",
      "  X = X[np.logical_and(X > clip[0], X < clip[1])] # won't work for two columns.\n"
     ]
    },
    {
     "data": {
      "text/plain": [
       "<Figure size 1080x720 with 0 Axes>"
      ]
     },
     "execution_count": 61,
     "metadata": {},
     "output_type": "execute_result"
    },
    {
     "data": {
      "image/png": "[encoded data removed]",
      "text/plain": [
       "<Figure size 432x288 with 1 Axes>"
      ]
     },
     "metadata": {
      "needs_background": "light"
     },
     "output_type": "display_data"
    },
    {
     "data": {
      "text/plain": [
       "<Figure size 1080x720 with 0 Axes>"
      ]
     },
     "metadata": {},
     "output_type": "display_data"
    }
   ],
   "source": [
    "sns.kdeplot(mmt_data['task'], shade = True)\n",
    "plt.figure( figsize = (15,10))"
   ]
  },
  {
   "cell_type": "code",
   "execution_count": 8,
   "metadata": {},
   "outputs": [
    {
     "data": {
      "text/html": [
       "<div>\n",
       "<style scoped>\n",
       "    .dataframe tbody tr th:only-of-type {\n",
       "        vertical-align: middle;\n",
       "    }\n",
       "\n",
       "    .dataframe tbody tr th {\n",
       "        vertical-align: top;\n",
       "    }\n",
       "\n",
       "    .dataframe thead th {\n",
       "        text-align: right;\n",
       "    }\n",
       "</style>\n",
       "<table border=\"1\" class=\"dataframe\">\n",
       "  <thead>\n",
       "    <tr style=\"text-align: right;\">\n",
       "      <th></th>\n",
       "      <th>userid</th>\n",
       "      <th>signup_date</th>\n",
       "      <th>wallet</th>\n",
       "      <th>tier</th>\n",
       "      <th>txns</th>\n",
       "      <th>sync_tag</th>\n",
       "      <th>operator_name</th>\n",
       "      <th>state</th>\n",
       "      <th>app_status</th>\n",
       "      <th>segment</th>\n",
       "      <th>task</th>\n",
       "    </tr>\n",
       "  </thead>\n",
       "  <tbody>\n",
       "    <tr>\n",
       "      <td>0</td>\n",
       "      <td>7cb3f42379df52fb7c22a44c27399c3177bd99d2</td>\n",
       "      <td>2010-10-26</td>\n",
       "      <td>0.0</td>\n",
       "      <td>Silver</td>\n",
       "      <td>56</td>\n",
       "      <td>yes</td>\n",
       "      <td>Aircel</td>\n",
       "      <td>Assam</td>\n",
       "      <td>Y</td>\n",
       "      <td>ios_mid</td>\n",
       "      <td>NaN</td>\n",
       "    </tr>\n",
       "    <tr>\n",
       "      <td>1</td>\n",
       "      <td>f233e57f7a6fcd4dde48ab163bcb8f1d4e960300</td>\n",
       "      <td>2010-11-01</td>\n",
       "      <td>0.0</td>\n",
       "      <td>Bronze</td>\n",
       "      <td>5</td>\n",
       "      <td>yes</td>\n",
       "      <td>Vodafone</td>\n",
       "      <td>Andhra Pradesh</td>\n",
       "      <td>N</td>\n",
       "      <td>NaN</td>\n",
       "      <td>NaN</td>\n",
       "    </tr>\n",
       "    <tr>\n",
       "      <td>2</td>\n",
       "      <td>269f4f812dd5574240101fe2585d2e5b9ac8ba2c</td>\n",
       "      <td>2010-12-21</td>\n",
       "      <td>0.0</td>\n",
       "      <td>Bronze</td>\n",
       "      <td>1</td>\n",
       "      <td>yes</td>\n",
       "      <td>Airtel</td>\n",
       "      <td>Andhra Pradesh</td>\n",
       "      <td>Y</td>\n",
       "      <td>android_mid</td>\n",
       "      <td>2.0</td>\n",
       "    </tr>\n",
       "    <tr>\n",
       "      <td>3</td>\n",
       "      <td>bc9df7db16d7e5bdda4cc0b9d650014304c67dda</td>\n",
       "      <td>2011-05-02</td>\n",
       "      <td>0.0</td>\n",
       "      <td>Bronze</td>\n",
       "      <td>3</td>\n",
       "      <td>No</td>\n",
       "      <td>NaN</td>\n",
       "      <td>NaN</td>\n",
       "      <td>N</td>\n",
       "      <td>NaN</td>\n",
       "      <td>NaN</td>\n",
       "    </tr>\n",
       "    <tr>\n",
       "      <td>4</td>\n",
       "      <td>6bc67af161cdfbb59a3e5ecec50646017ae7d9eb</td>\n",
       "      <td>2011-07-08</td>\n",
       "      <td>0.0</td>\n",
       "      <td>Bronze</td>\n",
       "      <td>2</td>\n",
       "      <td>No</td>\n",
       "      <td>NaN</td>\n",
       "      <td>NaN</td>\n",
       "      <td>N</td>\n",
       "      <td>NaN</td>\n",
       "      <td>NaN</td>\n",
       "    </tr>\n",
       "  </tbody>\n",
       "</table>\n",
       "</div>"
      ],
      "text/plain": [
       "                                     userid signup_date  wallet    tier  txns  \\\n",
       "0  7cb3f42379df52fb7c22a44c27399c3177bd99d2  2010-10-26     0.0  Silver    56   \n",
       "1  f233e57f7a6fcd4dde48ab163bcb8f1d4e960300  2010-11-01     0.0  Bronze     5   \n",
       "2  269f4f812dd5574240101fe2585d2e5b9ac8ba2c  2010-12-21     0.0  Bronze     1   \n",
       "3  bc9df7db16d7e5bdda4cc0b9d650014304c67dda  2011-05-02     0.0  Bronze     3   \n",
       "4  6bc67af161cdfbb59a3e5ecec50646017ae7d9eb  2011-07-08     0.0  Bronze     2   \n",
       "\n",
       "  sync_tag operator_name           state app_status      segment  task  \n",
       "0      yes        Aircel           Assam          Y      ios_mid   NaN  \n",
       "1      yes      Vodafone  Andhra Pradesh          N          NaN   NaN  \n",
       "2      yes        Airtel  Andhra Pradesh          Y  android_mid   2.0  \n",
       "3       No           NaN             NaN          N          NaN   NaN  \n",
       "4       No           NaN             NaN          N          NaN   NaN  "
      ]
     },
     "execution_count": 8,
     "metadata": {},
     "output_type": "execute_result"
    }
   ],
   "source": [
    "mmt_data.head()"
   ]
  },
  {
   "cell_type": "code",
   "execution_count": 9,
   "metadata": {},
   "outputs": [
    {
     "data": {
      "text/plain": [
       "userid               0\n",
       "signup_date          0\n",
       "wallet               0\n",
       "tier                 0\n",
       "txns                 0\n",
       "sync_tag             0\n",
       "operator_name    55553\n",
       "state            55553\n",
       "app_status           0\n",
       "segment          72519\n",
       "task             89677\n",
       "dtype: int64"
      ]
     },
     "execution_count": 9,
     "metadata": {},
     "output_type": "execute_result"
    }
   ],
   "source": [
    "mmt_data.isnull().sum()"
   ]
  },
  {
   "cell_type": "markdown",
   "metadata": {},
   "source": [
    "<a id=section3></a>"
   ]
  },
  {
   "cell_type": "markdown",
   "metadata": {},
   "source": [
    "## Problem Statement 1"
   ]
  },
  {
   "cell_type": "markdown",
   "metadata": {},
   "source": [
    "## Insights about type of customers present with us and their implications on overall data set using Clustering."
   ]
  },
  {
   "cell_type": "code",
   "execution_count": 20,
   "metadata": {},
   "outputs": [
    {
     "data": {
      "image/png": "[encoded data removed]",
      "text/plain": [
       "<Figure size 1080x576 with 1 Axes>"
      ]
     },
     "metadata": {
      "needs_background": "light"
     },
     "output_type": "display_data"
    }
   ],
   "source": [
    "#Plotting count of signups over the years wrt to app status\n",
    "plt.figure(figsize=(15,8))\n",
    "plt.xticks(fontsize = 12)\n",
    "plt.xlabel('Year', fontsize = 15)\n",
    "plt.yticks(fontsize = 12)\n",
    "plt.ylabel('Count', fontsize = 15)\n",
    "sns.countplot(x='app_status', data=mmt_data, hue = 'tier').set_title('Count of app_status wrt to tier')\n",
    "plt.savefig('Count of app_status wrt to tier.png', bbox_inches='tight')"
   ]
  },
  {
   "cell_type": "code",
   "execution_count": 22,
   "metadata": {},
   "outputs": [
    {
     "data": {
      "image/png": "[encoded data removed]",
      "text/plain": [
       "<Figure size 1080x576 with 1 Axes>"
      ]
     },
     "metadata": {
      "needs_background": "light"
     },
     "output_type": "display_data"
    }
   ],
   "source": [
    "#Plotting count of tiers wrt to app status\n",
    "plt.figure(figsize=(15,8))\n",
    "plt.xticks(fontsize = 12)\n",
    "plt.xlabel('Year', fontsize = 15)\n",
    "plt.yticks(fontsize = 12)\n",
    "plt.ylabel('Count', fontsize = 15)\n",
    "sns.countplot(x='tier', data=mmt_data, hue = 'app_status').set_title('Count of tier wrt to app_status')\n",
    "plt.savefig('Count of tier wrt to app_status.png', bbox_inches='tight')"
   ]
  },
  {
   "cell_type": "markdown",
   "metadata": {},
   "source": [
    "- In case of bronze only, no is more than yes."
   ]
  },
  {
   "cell_type": "code",
   "execution_count": 25,
   "metadata": {},
   "outputs": [
    {
     "data": {
      "text/plain": [
       "<Figure size 1080x720 with 0 Axes>"
      ]
     },
     "execution_count": 25,
     "metadata": {},
     "output_type": "execute_result"
    },
    {
     "data": {
      "image/png": "[encoded data removed]",
      "text/plain": [
       "<Figure size 432x288 with 1 Axes>"
      ]
     },
     "metadata": {
      "needs_background": "light"
     },
     "output_type": "display_data"
    },
    {
     "data": {
      "text/plain": [
       "<Figure size 1080x720 with 0 Axes>"
      ]
     },
     "metadata": {},
     "output_type": "display_data"
    }
   ],
   "source": [
    "#plotting transactions tier wise\n",
    "mmt_data.boxplot(column = 'txns', by = 'tier')\n",
    "plt.figure(figsize=(15,10))\n"
   ]
  },
  {
   "cell_type": "markdown",
   "metadata": {},
   "source": [
    "- There are outliers in the txns column"
   ]
  },
  {
   "cell_type": "code",
   "execution_count": 27,
   "metadata": {},
   "outputs": [],
   "source": [
    "mmt_data_txns = mmt_data[mmt_data['txns'] < 3000 ]"
   ]
  },
  {
   "cell_type": "code",
   "execution_count": 28,
   "metadata": {},
   "outputs": [
    {
     "data": {
      "text/plain": [
       "<Figure size 1080x720 with 0 Axes>"
      ]
     },
     "execution_count": 28,
     "metadata": {},
     "output_type": "execute_result"
    },
    {
     "data": {
      "image/png": "[encoded data removed]",
      "text/plain": [
       "<Figure size 432x288 with 1 Axes>"
      ]
     },
     "metadata": {
      "needs_background": "light"
     },
     "output_type": "display_data"
    },
    {
     "data": {
      "text/plain": [
       "<Figure size 1080x720 with 0 Axes>"
      ]
     },
     "metadata": {},
     "output_type": "display_data"
    }
   ],
   "source": [
    "#Plotting boxplot for transcactions less then 3000\n",
    "mmt_data_txns.boxplot(column = 'txns', by = 'tier')\n",
    "plt.figure(figsize=(15,10))"
   ]
  },
  {
   "cell_type": "code",
   "execution_count": 29,
   "metadata": {},
   "outputs": [],
   "source": [
    "mmt_data_txns1 = mmt_data[mmt_data['txns'] < 1000 ]"
   ]
  },
  {
   "cell_type": "code",
   "execution_count": 30,
   "metadata": {},
   "outputs": [
    {
     "data": {
      "text/plain": [
       "<Figure size 1080x720 with 0 Axes>"
      ]
     },
     "execution_count": 30,
     "metadata": {},
     "output_type": "execute_result"
    },
    {
     "data": {
      "image/png": "[encoded data removed]",
      "text/plain": [
       "<Figure size 432x288 with 1 Axes>"
      ]
     },
     "metadata": {
      "needs_background": "light"
     },
     "output_type": "display_data"
    },
    {
     "data": {
      "text/plain": [
       "<Figure size 1080x720 with 0 Axes>"
      ]
     },
     "metadata": {},
     "output_type": "display_data"
    }
   ],
   "source": [
    "#Plotting boxplot for transcactions less then 1000\n",
    "mmt_data_txns1.boxplot(column = 'txns', by = 'tier')\n",
    "plt.figure(figsize=(15,10))"
   ]
  },
  {
   "cell_type": "code",
   "execution_count": 32,
   "metadata": {},
   "outputs": [
    {
     "data": {
      "text/plain": [
       "<Figure size 1080x720 with 0 Axes>"
      ]
     },
     "execution_count": 32,
     "metadata": {},
     "output_type": "execute_result"
    },
    {
     "data": {
      "image/png": "[encoded data removed]",
      "text/plain": [
       "<Figure size 432x288 with 1 Axes>"
      ]
     },
     "metadata": {
      "needs_background": "light"
     },
     "output_type": "display_data"
    },
    {
     "data": {
      "text/plain": [
       "<Figure size 1080x720 with 0 Axes>"
      ]
     },
     "metadata": {},
     "output_type": "display_data"
    }
   ],
   "source": [
    "#plotting wallet tier wise\n",
    "mmt_data.boxplot(column = 'wallet', by = 'tier')\n",
    "plt.figure(figsize=(15,10))\n"
   ]
  },
  {
   "cell_type": "markdown",
   "metadata": {},
   "source": [
    "- Least wallet amount is with bronze and silver tier user."
   ]
  },
  {
   "cell_type": "markdown",
   "metadata": {},
   "source": [
    "<a id=section4></a>"
   ]
  },
  {
   "cell_type": "markdown",
   "metadata": {},
   "source": [
    "## Problem Statement 2"
   ]
  },
  {
   "cell_type": "markdown",
   "metadata": {},
   "source": [
    "## Who are our top 1 percentile of user. Why are they in this bucket."
   ]
  },
  {
   "cell_type": "code",
   "execution_count": 33,
   "metadata": {
    "scrolled": true
   },
   "outputs": [
    {
     "data": {
      "text/html": [
       "<div>\n",
       "<style scoped>\n",
       "    .dataframe tbody tr th:only-of-type {\n",
       "        vertical-align: middle;\n",
       "    }\n",
       "\n",
       "    .dataframe tbody tr th {\n",
       "        vertical-align: top;\n",
       "    }\n",
       "\n",
       "    .dataframe thead th {\n",
       "        text-align: right;\n",
       "    }\n",
       "</style>\n",
       "<table border=\"1\" class=\"dataframe\">\n",
       "  <thead>\n",
       "    <tr style=\"text-align: right;\">\n",
       "      <th></th>\n",
       "      <th>userid</th>\n",
       "      <th>signup_date</th>\n",
       "      <th>wallet</th>\n",
       "      <th>tier</th>\n",
       "      <th>txns</th>\n",
       "      <th>sync_tag</th>\n",
       "      <th>operator_name</th>\n",
       "      <th>state</th>\n",
       "      <th>app_status</th>\n",
       "      <th>segment</th>\n",
       "      <th>task</th>\n",
       "    </tr>\n",
       "  </thead>\n",
       "  <tbody>\n",
       "    <tr>\n",
       "      <td>0</td>\n",
       "      <td>7cb3f42379df52fb7c22a44c27399c3177bd99d2</td>\n",
       "      <td>2010-10-26</td>\n",
       "      <td>0.0</td>\n",
       "      <td>Silver</td>\n",
       "      <td>56</td>\n",
       "      <td>yes</td>\n",
       "      <td>Aircel</td>\n",
       "      <td>Assam</td>\n",
       "      <td>Y</td>\n",
       "      <td>ios_mid</td>\n",
       "      <td>NaN</td>\n",
       "    </tr>\n",
       "    <tr>\n",
       "      <td>1</td>\n",
       "      <td>f233e57f7a6fcd4dde48ab163bcb8f1d4e960300</td>\n",
       "      <td>2010-11-01</td>\n",
       "      <td>0.0</td>\n",
       "      <td>Bronze</td>\n",
       "      <td>5</td>\n",
       "      <td>yes</td>\n",
       "      <td>Vodafone</td>\n",
       "      <td>Andhra Pradesh</td>\n",
       "      <td>N</td>\n",
       "      <td>NaN</td>\n",
       "      <td>NaN</td>\n",
       "    </tr>\n",
       "    <tr>\n",
       "      <td>2</td>\n",
       "      <td>269f4f812dd5574240101fe2585d2e5b9ac8ba2c</td>\n",
       "      <td>2010-12-21</td>\n",
       "      <td>0.0</td>\n",
       "      <td>Bronze</td>\n",
       "      <td>1</td>\n",
       "      <td>yes</td>\n",
       "      <td>Airtel</td>\n",
       "      <td>Andhra Pradesh</td>\n",
       "      <td>Y</td>\n",
       "      <td>android_mid</td>\n",
       "      <td>2.0</td>\n",
       "    </tr>\n",
       "    <tr>\n",
       "      <td>3</td>\n",
       "      <td>bc9df7db16d7e5bdda4cc0b9d650014304c67dda</td>\n",
       "      <td>2011-05-02</td>\n",
       "      <td>0.0</td>\n",
       "      <td>Bronze</td>\n",
       "      <td>3</td>\n",
       "      <td>No</td>\n",
       "      <td>NaN</td>\n",
       "      <td>NaN</td>\n",
       "      <td>N</td>\n",
       "      <td>NaN</td>\n",
       "      <td>NaN</td>\n",
       "    </tr>\n",
       "    <tr>\n",
       "      <td>4</td>\n",
       "      <td>6bc67af161cdfbb59a3e5ecec50646017ae7d9eb</td>\n",
       "      <td>2011-07-08</td>\n",
       "      <td>0.0</td>\n",
       "      <td>Bronze</td>\n",
       "      <td>2</td>\n",
       "      <td>No</td>\n",
       "      <td>NaN</td>\n",
       "      <td>NaN</td>\n",
       "      <td>N</td>\n",
       "      <td>NaN</td>\n",
       "      <td>NaN</td>\n",
       "    </tr>\n",
       "  </tbody>\n",
       "</table>\n",
       "</div>"
      ],
      "text/plain": [
       "                                     userid signup_date  wallet    tier  txns  \\\n",
       "0  7cb3f42379df52fb7c22a44c27399c3177bd99d2  2010-10-26     0.0  Silver    56   \n",
       "1  f233e57f7a6fcd4dde48ab163bcb8f1d4e960300  2010-11-01     0.0  Bronze     5   \n",
       "2  269f4f812dd5574240101fe2585d2e5b9ac8ba2c  2010-12-21     0.0  Bronze     1   \n",
       "3  bc9df7db16d7e5bdda4cc0b9d650014304c67dda  2011-05-02     0.0  Bronze     3   \n",
       "4  6bc67af161cdfbb59a3e5ecec50646017ae7d9eb  2011-07-08     0.0  Bronze     2   \n",
       "\n",
       "  sync_tag operator_name           state app_status      segment  task  \n",
       "0      yes        Aircel           Assam          Y      ios_mid   NaN  \n",
       "1      yes      Vodafone  Andhra Pradesh          N          NaN   NaN  \n",
       "2      yes        Airtel  Andhra Pradesh          Y  android_mid   2.0  \n",
       "3       No           NaN             NaN          N          NaN   NaN  \n",
       "4       No           NaN             NaN          N          NaN   NaN  "
      ]
     },
     "execution_count": 33,
     "metadata": {},
     "output_type": "execute_result"
    }
   ],
   "source": [
    "mmt_data.head()"
   ]
  },
  {
   "cell_type": "markdown",
   "metadata": {},
   "source": [
    "Top 1 percentile users are the ones who have made maximun transactions."
   ]
  },
  {
   "cell_type": "code",
   "execution_count": 45,
   "metadata": {},
   "outputs": [],
   "source": [
    "mmt_top1_perc = mmt_data.sort_values(by = 'txns', ascending=False)"
   ]
  },
  {
   "cell_type": "code",
   "execution_count": 46,
   "metadata": {},
   "outputs": [
    {
     "data": {
      "text/html": [
       "<div>\n",
       "<style scoped>\n",
       "    .dataframe tbody tr th:only-of-type {\n",
       "        vertical-align: middle;\n",
       "    }\n",
       "\n",
       "    .dataframe tbody tr th {\n",
       "        vertical-align: top;\n",
       "    }\n",
       "\n",
       "    .dataframe thead th {\n",
       "        text-align: right;\n",
       "    }\n",
       "</style>\n",
       "<table border=\"1\" class=\"dataframe\">\n",
       "  <thead>\n",
       "    <tr style=\"text-align: right;\">\n",
       "      <th></th>\n",
       "      <th>userid</th>\n",
       "      <th>signup_date</th>\n",
       "      <th>wallet</th>\n",
       "      <th>tier</th>\n",
       "      <th>txns</th>\n",
       "      <th>sync_tag</th>\n",
       "      <th>operator_name</th>\n",
       "      <th>state</th>\n",
       "      <th>app_status</th>\n",
       "      <th>segment</th>\n",
       "      <th>task</th>\n",
       "    </tr>\n",
       "  </thead>\n",
       "  <tbody>\n",
       "    <tr>\n",
       "      <td>93863</td>\n",
       "      <td>b32d10c98fafc5d46f7f4ddea5555350db9964f2</td>\n",
       "      <td>2013-08-22</td>\n",
       "      <td>0.0</td>\n",
       "      <td>Silver</td>\n",
       "      <td>9882</td>\n",
       "      <td>yes</td>\n",
       "      <td>Vodafone</td>\n",
       "      <td>Tamil Nadu</td>\n",
       "      <td>Y</td>\n",
       "      <td>android_mid</td>\n",
       "      <td>NaN</td>\n",
       "    </tr>\n",
       "    <tr>\n",
       "      <td>91363</td>\n",
       "      <td>21cf43d6ff2071a259f7723c460a244dd1828a7f</td>\n",
       "      <td>2013-07-12</td>\n",
       "      <td>0.0</td>\n",
       "      <td>Bronze</td>\n",
       "      <td>6044</td>\n",
       "      <td>No</td>\n",
       "      <td>Idea</td>\n",
       "      <td>Punjab</td>\n",
       "      <td>N</td>\n",
       "      <td>NaN</td>\n",
       "      <td>NaN</td>\n",
       "    </tr>\n",
       "    <tr>\n",
       "      <td>95380</td>\n",
       "      <td>0ed69a1df72a2a27ab147d431b5146cb5c4c3ec6</td>\n",
       "      <td>2013-07-08</td>\n",
       "      <td>0.0</td>\n",
       "      <td>Silver</td>\n",
       "      <td>2185</td>\n",
       "      <td>No</td>\n",
       "      <td>BSNL</td>\n",
       "      <td>Kerala</td>\n",
       "      <td>Y</td>\n",
       "      <td>ios_high</td>\n",
       "      <td>NaN</td>\n",
       "    </tr>\n",
       "    <tr>\n",
       "      <td>90404</td>\n",
       "      <td>accd404f4968ff313c95956bc48a8d0ebc0e2ac0</td>\n",
       "      <td>2013-07-17</td>\n",
       "      <td>0.0</td>\n",
       "      <td>Bronze</td>\n",
       "      <td>1344</td>\n",
       "      <td>No</td>\n",
       "      <td>NaN</td>\n",
       "      <td>NaN</td>\n",
       "      <td>N</td>\n",
       "      <td>NaN</td>\n",
       "      <td>NaN</td>\n",
       "    </tr>\n",
       "    <tr>\n",
       "      <td>52851</td>\n",
       "      <td>5654924a72d94a5c47b2e95dc531bb9b40decbf0</td>\n",
       "      <td>2013-02-27</td>\n",
       "      <td>0.0</td>\n",
       "      <td>Silver</td>\n",
       "      <td>944</td>\n",
       "      <td>yes</td>\n",
       "      <td>Vodafone</td>\n",
       "      <td>Delhi</td>\n",
       "      <td>Y</td>\n",
       "      <td>android_mid</td>\n",
       "      <td>15.0</td>\n",
       "    </tr>\n",
       "  </tbody>\n",
       "</table>\n",
       "</div>"
      ],
      "text/plain": [
       "                                         userid signup_date  wallet    tier  \\\n",
       "93863  b32d10c98fafc5d46f7f4ddea5555350db9964f2  2013-08-22     0.0  Silver   \n",
       "91363  21cf43d6ff2071a259f7723c460a244dd1828a7f  2013-07-12     0.0  Bronze   \n",
       "95380  0ed69a1df72a2a27ab147d431b5146cb5c4c3ec6  2013-07-08     0.0  Silver   \n",
       "90404  accd404f4968ff313c95956bc48a8d0ebc0e2ac0  2013-07-17     0.0  Bronze   \n",
       "52851  5654924a72d94a5c47b2e95dc531bb9b40decbf0  2013-02-27     0.0  Silver   \n",
       "\n",
       "       txns sync_tag operator_name       state app_status      segment  task  \n",
       "93863  9882      yes      Vodafone  Tamil Nadu          Y  android_mid   NaN  \n",
       "91363  6044       No          Idea      Punjab          N          NaN   NaN  \n",
       "95380  2185       No          BSNL      Kerala          Y     ios_high   NaN  \n",
       "90404  1344       No           NaN         NaN          N          NaN   NaN  \n",
       "52851   944      yes      Vodafone       Delhi          Y  android_mid  15.0  "
      ]
     },
     "execution_count": 46,
     "metadata": {},
     "output_type": "execute_result"
    }
   ],
   "source": [
    "mmt_top1_perc.head() "
   ]
  },
  {
   "cell_type": "markdown",
   "metadata": {},
   "source": [
    "Top 1 percentile will be the top 1% of the users, i.e., top 1000 users."
   ]
  },
  {
   "cell_type": "code",
   "execution_count": 47,
   "metadata": {},
   "outputs": [],
   "source": [
    "mmt_top1_perc = mmt_top1_perc.head(1000)"
   ]
  },
  {
   "cell_type": "code",
   "execution_count": 49,
   "metadata": {},
   "outputs": [
    {
     "data": {
      "text/plain": [
       "(1000, 11)"
      ]
     },
     "execution_count": 49,
     "metadata": {},
     "output_type": "execute_result"
    }
   ],
   "source": [
    "mmt_top1_perc.shape"
   ]
  },
  {
   "cell_type": "markdown",
   "metadata": {},
   "source": [
    "Visualising top 1 percentile"
   ]
  },
  {
   "cell_type": "code",
   "execution_count": 51,
   "metadata": {},
   "outputs": [
    {
     "data": {
      "text/html": [
       "<div>\n",
       "<style scoped>\n",
       "    .dataframe tbody tr th:only-of-type {\n",
       "        vertical-align: middle;\n",
       "    }\n",
       "\n",
       "    .dataframe tbody tr th {\n",
       "        vertical-align: top;\n",
       "    }\n",
       "\n",
       "    .dataframe thead th {\n",
       "        text-align: right;\n",
       "    }\n",
       "</style>\n",
       "<table border=\"1\" class=\"dataframe\">\n",
       "  <thead>\n",
       "    <tr style=\"text-align: right;\">\n",
       "      <th></th>\n",
       "      <th>userid</th>\n",
       "      <th>signup_date</th>\n",
       "      <th>wallet</th>\n",
       "      <th>tier</th>\n",
       "      <th>txns</th>\n",
       "      <th>sync_tag</th>\n",
       "      <th>operator_name</th>\n",
       "      <th>state</th>\n",
       "      <th>app_status</th>\n",
       "      <th>segment</th>\n",
       "      <th>task</th>\n",
       "      <th>year</th>\n",
       "    </tr>\n",
       "  </thead>\n",
       "  <tbody>\n",
       "    <tr>\n",
       "      <td>93863</td>\n",
       "      <td>b32d10c98fafc5d46f7f4ddea5555350db9964f2</td>\n",
       "      <td>2013-08-22</td>\n",
       "      <td>0.0</td>\n",
       "      <td>Silver</td>\n",
       "      <td>9882</td>\n",
       "      <td>yes</td>\n",
       "      <td>Vodafone</td>\n",
       "      <td>Tamil Nadu</td>\n",
       "      <td>Y</td>\n",
       "      <td>android_mid</td>\n",
       "      <td>NaN</td>\n",
       "      <td>2013</td>\n",
       "    </tr>\n",
       "    <tr>\n",
       "      <td>91363</td>\n",
       "      <td>21cf43d6ff2071a259f7723c460a244dd1828a7f</td>\n",
       "      <td>2013-07-12</td>\n",
       "      <td>0.0</td>\n",
       "      <td>Bronze</td>\n",
       "      <td>6044</td>\n",
       "      <td>No</td>\n",
       "      <td>Idea</td>\n",
       "      <td>Punjab</td>\n",
       "      <td>N</td>\n",
       "      <td>NaN</td>\n",
       "      <td>NaN</td>\n",
       "      <td>2013</td>\n",
       "    </tr>\n",
       "    <tr>\n",
       "      <td>95380</td>\n",
       "      <td>0ed69a1df72a2a27ab147d431b5146cb5c4c3ec6</td>\n",
       "      <td>2013-07-08</td>\n",
       "      <td>0.0</td>\n",
       "      <td>Silver</td>\n",
       "      <td>2185</td>\n",
       "      <td>No</td>\n",
       "      <td>BSNL</td>\n",
       "      <td>Kerala</td>\n",
       "      <td>Y</td>\n",
       "      <td>ios_high</td>\n",
       "      <td>NaN</td>\n",
       "      <td>2013</td>\n",
       "    </tr>\n",
       "    <tr>\n",
       "      <td>90404</td>\n",
       "      <td>accd404f4968ff313c95956bc48a8d0ebc0e2ac0</td>\n",
       "      <td>2013-07-17</td>\n",
       "      <td>0.0</td>\n",
       "      <td>Bronze</td>\n",
       "      <td>1344</td>\n",
       "      <td>No</td>\n",
       "      <td>NaN</td>\n",
       "      <td>NaN</td>\n",
       "      <td>N</td>\n",
       "      <td>NaN</td>\n",
       "      <td>NaN</td>\n",
       "      <td>2013</td>\n",
       "    </tr>\n",
       "    <tr>\n",
       "      <td>52851</td>\n",
       "      <td>5654924a72d94a5c47b2e95dc531bb9b40decbf0</td>\n",
       "      <td>2013-02-27</td>\n",
       "      <td>0.0</td>\n",
       "      <td>Silver</td>\n",
       "      <td>944</td>\n",
       "      <td>yes</td>\n",
       "      <td>Vodafone</td>\n",
       "      <td>Delhi</td>\n",
       "      <td>Y</td>\n",
       "      <td>android_mid</td>\n",
       "      <td>15.0</td>\n",
       "      <td>2013</td>\n",
       "    </tr>\n",
       "  </tbody>\n",
       "</table>\n",
       "</div>"
      ],
      "text/plain": [
       "                                         userid signup_date  wallet    tier  \\\n",
       "93863  b32d10c98fafc5d46f7f4ddea5555350db9964f2  2013-08-22     0.0  Silver   \n",
       "91363  21cf43d6ff2071a259f7723c460a244dd1828a7f  2013-07-12     0.0  Bronze   \n",
       "95380  0ed69a1df72a2a27ab147d431b5146cb5c4c3ec6  2013-07-08     0.0  Silver   \n",
       "90404  accd404f4968ff313c95956bc48a8d0ebc0e2ac0  2013-07-17     0.0  Bronze   \n",
       "52851  5654924a72d94a5c47b2e95dc531bb9b40decbf0  2013-02-27     0.0  Silver   \n",
       "\n",
       "       txns sync_tag operator_name       state app_status      segment  task  \\\n",
       "93863  9882      yes      Vodafone  Tamil Nadu          Y  android_mid   NaN   \n",
       "91363  6044       No          Idea      Punjab          N          NaN   NaN   \n",
       "95380  2185       No          BSNL      Kerala          Y     ios_high   NaN   \n",
       "90404  1344       No           NaN         NaN          N          NaN   NaN   \n",
       "52851   944      yes      Vodafone       Delhi          Y  android_mid  15.0   \n",
       "\n",
       "       year  \n",
       "93863  2013  \n",
       "91363  2013  \n",
       "95380  2013  \n",
       "90404  2013  \n",
       "52851  2013  "
      ]
     },
     "execution_count": 51,
     "metadata": {},
     "output_type": "execute_result"
    }
   ],
   "source": [
    "year1 = mmt_top1_perc.signup_date.dt.year\n",
    "mmt_top1_perc['year'] = year1\n",
    "mmt_top1_perc.head()"
   ]
  },
  {
   "cell_type": "code",
   "execution_count": 54,
   "metadata": {},
   "outputs": [
    {
     "data": {
      "image/png": "[encoded data removed]",
      "text/plain": [
       "<Figure size 1080x1080 with 1 Axes>"
      ]
     },
     "metadata": {},
     "output_type": "display_data"
    }
   ],
   "source": [
    "#plotting distribution of Tiers in top 1 Percentile of users\n",
    "plt.figure(figsize=(15,15))\n",
    "mmt_top1_perc['tier'].value_counts().plot(kind='pie', wedgeprops=dict(width=0.25),\n",
    "                                      fontsize=15, autopct='%3.1f%%', figsize=(15,15), \n",
    "                                       startangle=135,  cmap='summer')\n",
    "plt.ylabel('Tier', fontsize = 15)\n",
    "plt.title('Donut Plot showing the Proportion of Tiers of Top 1 Percentile Users', fontsize = 20)\n",
    "plt.legend(fontsize =15)\n",
    "plt.savefig('Donut Plot showing the Proportion of Tiers of Top 1 Percentile Users.png')"
   ]
  },
  {
   "cell_type": "code",
   "execution_count": 55,
   "metadata": {
    "scrolled": true
   },
   "outputs": [
    {
     "data": {
      "image/png": "[encoded data removed]",
      "text/plain": [
       "<Figure size 720x720 with 1 Axes>"
      ]
     },
     "metadata": {},
     "output_type": "display_data"
    }
   ],
   "source": [
    "#plotting distribution of sync_tag in top 1 Percentile of users\n",
    "plt.figure(figsize=(15,15))\n",
    "mmt_top1_perc['sync_tag'].value_counts().plot(kind='pie', wedgeprops=dict(width=0.25),\n",
    "                                      fontsize=12, autopct='%3.1f%%', figsize=(10,10), \n",
    "                                       startangle=135,  cmap='summer')\n",
    "\n",
    "plt.ylabel('Sync Tag', fontsize = 15)\n",
    "plt.title('Donut Plot showing the Proportion of Sync-tag of Top 1 Percentile Users', fontsize = 20)\n",
    "plt.savefig('Donut Plot showing the Proportion of Sync-tag of Top 1 Percentile Users.png')"
   ]
  },
  {
   "cell_type": "markdown",
   "metadata": {},
   "source": [
    "Contrary to total users, top 1 percentile of users have more of those who sync their data."
   ]
  },
  {
   "cell_type": "code",
   "execution_count": 56,
   "metadata": {},
   "outputs": [
    {
     "data": {
      "image/png": "[encoded data removed]",
      "text/plain": [
       "<Figure size 720x720 with 1 Axes>"
      ]
     },
     "metadata": {},
     "output_type": "display_data"
    }
   ],
   "source": [
    "#plotting distribution of app status in top 1 Percentile of users\n",
    "plt.figure(figsize=(15,15))\n",
    "mmt_top1_perc['app_status'].value_counts().plot(kind='pie', wedgeprops=dict(width=0.25),\n",
    "                                      fontsize=12, autopct='%3.1f%%', figsize=(10,10), \n",
    "                                       startangle=135,  cmap='summer')\n",
    "\n",
    "plt.ylabel('app_status', fontsize = 15)\n",
    "plt.title('Donut Plot showing the Proportion of app_status of Top 1 Percentile Users', fontsize = 20)\n",
    "plt.savefig('Count of app_status of Top 1 Percentile Users.png', bbox_inches='tight')\n"
   ]
  },
  {
   "cell_type": "markdown",
   "metadata": {},
   "source": [
    "Contrary to total users, top 1 percentile of users have more of those who have apps."
   ]
  },
  {
   "cell_type": "markdown",
   "metadata": {},
   "source": [
    "<a id=section5></a>"
   ]
  },
  {
   "cell_type": "markdown",
   "metadata": {},
   "source": [
    "## Problem Statement 3"
   ]
  },
  {
   "cell_type": "markdown",
   "metadata": {},
   "source": [
    "## What is the probability of users transacting again, who have made single transaction till date?"
   ]
  },
  {
   "cell_type": "markdown",
   "metadata": {},
   "source": [
    "For this, lets build a logistic regression model."
   ]
  },
  {
   "cell_type": "markdown",
   "metadata": {},
   "source": [
    "#### Dropping Columns"
   ]
  },
  {
   "cell_type": "code",
   "execution_count": 71,
   "metadata": {},
   "outputs": [
    {
     "data": {
      "text/html": [
       "<div>\n",
       "<style scoped>\n",
       "    .dataframe tbody tr th:only-of-type {\n",
       "        vertical-align: middle;\n",
       "    }\n",
       "\n",
       "    .dataframe tbody tr th {\n",
       "        vertical-align: top;\n",
       "    }\n",
       "\n",
       "    .dataframe thead th {\n",
       "        text-align: right;\n",
       "    }\n",
       "</style>\n",
       "<table border=\"1\" class=\"dataframe\">\n",
       "  <thead>\n",
       "    <tr style=\"text-align: right;\">\n",
       "      <th></th>\n",
       "      <th>userid</th>\n",
       "      <th>signup_date</th>\n",
       "      <th>wallet</th>\n",
       "      <th>tier</th>\n",
       "      <th>txns</th>\n",
       "      <th>sync_tag</th>\n",
       "      <th>operator_name</th>\n",
       "      <th>state</th>\n",
       "      <th>app_status</th>\n",
       "      <th>segment</th>\n",
       "      <th>task</th>\n",
       "    </tr>\n",
       "  </thead>\n",
       "  <tbody>\n",
       "    <tr>\n",
       "      <td>0</td>\n",
       "      <td>7cb3f42379df52fb7c22a44c27399c3177bd99d2</td>\n",
       "      <td>2010-10-26</td>\n",
       "      <td>0.0</td>\n",
       "      <td>Silver</td>\n",
       "      <td>56</td>\n",
       "      <td>yes</td>\n",
       "      <td>Aircel</td>\n",
       "      <td>Assam</td>\n",
       "      <td>Y</td>\n",
       "      <td>ios_mid</td>\n",
       "      <td>NaN</td>\n",
       "    </tr>\n",
       "    <tr>\n",
       "      <td>1</td>\n",
       "      <td>f233e57f7a6fcd4dde48ab163bcb8f1d4e960300</td>\n",
       "      <td>2010-11-01</td>\n",
       "      <td>0.0</td>\n",
       "      <td>Bronze</td>\n",
       "      <td>5</td>\n",
       "      <td>yes</td>\n",
       "      <td>Vodafone</td>\n",
       "      <td>Andhra Pradesh</td>\n",
       "      <td>N</td>\n",
       "      <td>NaN</td>\n",
       "      <td>NaN</td>\n",
       "    </tr>\n",
       "    <tr>\n",
       "      <td>2</td>\n",
       "      <td>269f4f812dd5574240101fe2585d2e5b9ac8ba2c</td>\n",
       "      <td>2010-12-21</td>\n",
       "      <td>0.0</td>\n",
       "      <td>Bronze</td>\n",
       "      <td>1</td>\n",
       "      <td>yes</td>\n",
       "      <td>Airtel</td>\n",
       "      <td>Andhra Pradesh</td>\n",
       "      <td>Y</td>\n",
       "      <td>android_mid</td>\n",
       "      <td>2.0</td>\n",
       "    </tr>\n",
       "    <tr>\n",
       "      <td>3</td>\n",
       "      <td>bc9df7db16d7e5bdda4cc0b9d650014304c67dda</td>\n",
       "      <td>2011-05-02</td>\n",
       "      <td>0.0</td>\n",
       "      <td>Bronze</td>\n",
       "      <td>3</td>\n",
       "      <td>No</td>\n",
       "      <td>NaN</td>\n",
       "      <td>NaN</td>\n",
       "      <td>N</td>\n",
       "      <td>NaN</td>\n",
       "      <td>NaN</td>\n",
       "    </tr>\n",
       "    <tr>\n",
       "      <td>4</td>\n",
       "      <td>6bc67af161cdfbb59a3e5ecec50646017ae7d9eb</td>\n",
       "      <td>2011-07-08</td>\n",
       "      <td>0.0</td>\n",
       "      <td>Bronze</td>\n",
       "      <td>2</td>\n",
       "      <td>No</td>\n",
       "      <td>NaN</td>\n",
       "      <td>NaN</td>\n",
       "      <td>N</td>\n",
       "      <td>NaN</td>\n",
       "      <td>NaN</td>\n",
       "    </tr>\n",
       "  </tbody>\n",
       "</table>\n",
       "</div>"
      ],
      "text/plain": [
       "                                     userid signup_date  wallet    tier  txns  \\\n",
       "0  7cb3f42379df52fb7c22a44c27399c3177bd99d2  2010-10-26     0.0  Silver    56   \n",
       "1  f233e57f7a6fcd4dde48ab163bcb8f1d4e960300  2010-11-01     0.0  Bronze     5   \n",
       "2  269f4f812dd5574240101fe2585d2e5b9ac8ba2c  2010-12-21     0.0  Bronze     1   \n",
       "3  bc9df7db16d7e5bdda4cc0b9d650014304c67dda  2011-05-02     0.0  Bronze     3   \n",
       "4  6bc67af161cdfbb59a3e5ecec50646017ae7d9eb  2011-07-08     0.0  Bronze     2   \n",
       "\n",
       "  sync_tag operator_name           state app_status      segment  task  \n",
       "0      yes        Aircel           Assam          Y      ios_mid   NaN  \n",
       "1      yes      Vodafone  Andhra Pradesh          N          NaN   NaN  \n",
       "2      yes        Airtel  Andhra Pradesh          Y  android_mid   2.0  \n",
       "3       No           NaN             NaN          N          NaN   NaN  \n",
       "4       No           NaN             NaN          N          NaN   NaN  "
      ]
     },
     "execution_count": 71,
     "metadata": {},
     "output_type": "execute_result"
    }
   ],
   "source": [
    "mmt_data_log1 = mmt_data.copy()\n",
    "mmt_data_log1.head()"
   ]
  },
  {
   "cell_type": "code",
   "execution_count": 72,
   "metadata": {},
   "outputs": [],
   "source": [
    "#dropping 'userid', 'signup_date', operator name', 'state', 'segment' and 'task'\n",
    "mmt_data_log1.drop(['userid', 'signup_date', 'operator_name', 'state', 'task', 'segment'], axis =1, inplace = True)"
   ]
  },
  {
   "cell_type": "code",
   "execution_count": 73,
   "metadata": {},
   "outputs": [
    {
     "data": {
      "text/html": [
       "<div>\n",
       "<style scoped>\n",
       "    .dataframe tbody tr th:only-of-type {\n",
       "        vertical-align: middle;\n",
       "    }\n",
       "\n",
       "    .dataframe tbody tr th {\n",
       "        vertical-align: top;\n",
       "    }\n",
       "\n",
       "    .dataframe thead th {\n",
       "        text-align: right;\n",
       "    }\n",
       "</style>\n",
       "<table border=\"1\" class=\"dataframe\">\n",
       "  <thead>\n",
       "    <tr style=\"text-align: right;\">\n",
       "      <th></th>\n",
       "      <th>wallet</th>\n",
       "      <th>tier</th>\n",
       "      <th>txns</th>\n",
       "      <th>sync_tag</th>\n",
       "      <th>app_status</th>\n",
       "    </tr>\n",
       "  </thead>\n",
       "  <tbody>\n",
       "    <tr>\n",
       "      <td>0</td>\n",
       "      <td>0.0</td>\n",
       "      <td>Silver</td>\n",
       "      <td>56</td>\n",
       "      <td>yes</td>\n",
       "      <td>Y</td>\n",
       "    </tr>\n",
       "    <tr>\n",
       "      <td>1</td>\n",
       "      <td>0.0</td>\n",
       "      <td>Bronze</td>\n",
       "      <td>5</td>\n",
       "      <td>yes</td>\n",
       "      <td>N</td>\n",
       "    </tr>\n",
       "    <tr>\n",
       "      <td>2</td>\n",
       "      <td>0.0</td>\n",
       "      <td>Bronze</td>\n",
       "      <td>1</td>\n",
       "      <td>yes</td>\n",
       "      <td>Y</td>\n",
       "    </tr>\n",
       "    <tr>\n",
       "      <td>3</td>\n",
       "      <td>0.0</td>\n",
       "      <td>Bronze</td>\n",
       "      <td>3</td>\n",
       "      <td>No</td>\n",
       "      <td>N</td>\n",
       "    </tr>\n",
       "    <tr>\n",
       "      <td>4</td>\n",
       "      <td>0.0</td>\n",
       "      <td>Bronze</td>\n",
       "      <td>2</td>\n",
       "      <td>No</td>\n",
       "      <td>N</td>\n",
       "    </tr>\n",
       "  </tbody>\n",
       "</table>\n",
       "</div>"
      ],
      "text/plain": [
       "   wallet    tier  txns sync_tag app_status\n",
       "0     0.0  Silver    56      yes          Y\n",
       "1     0.0  Bronze     5      yes          N\n",
       "2     0.0  Bronze     1      yes          Y\n",
       "3     0.0  Bronze     3       No          N\n",
       "4     0.0  Bronze     2       No          N"
      ]
     },
     "execution_count": 73,
     "metadata": {},
     "output_type": "execute_result"
    }
   ],
   "source": [
    "mmt_data_log1.head()"
   ]
  },
  {
   "cell_type": "markdown",
   "metadata": {},
   "source": [
    "#### Encoding Categorical Columns"
   ]
  },
  {
   "cell_type": "code",
   "execution_count": 74,
   "metadata": {},
   "outputs": [],
   "source": [
    "mmt_data_log1 = pd.get_dummies(mmt_data_log1, columns=['tier','sync_tag', 'app_status'], drop_first=True)"
   ]
  },
  {
   "cell_type": "code",
   "execution_count": 75,
   "metadata": {},
   "outputs": [
    {
     "data": {
      "text/html": [
       "<div>\n",
       "<style scoped>\n",
       "    .dataframe tbody tr th:only-of-type {\n",
       "        vertical-align: middle;\n",
       "    }\n",
       "\n",
       "    .dataframe tbody tr th {\n",
       "        vertical-align: top;\n",
       "    }\n",
       "\n",
       "    .dataframe thead th {\n",
       "        text-align: right;\n",
       "    }\n",
       "</style>\n",
       "<table border=\"1\" class=\"dataframe\">\n",
       "  <thead>\n",
       "    <tr style=\"text-align: right;\">\n",
       "      <th></th>\n",
       "      <th>wallet</th>\n",
       "      <th>txns</th>\n",
       "      <th>tier_Gold</th>\n",
       "      <th>tier_Platinum</th>\n",
       "      <th>tier_Silver</th>\n",
       "      <th>tier_Titanium</th>\n",
       "      <th>sync_tag_yes</th>\n",
       "      <th>app_status_Y</th>\n",
       "    </tr>\n",
       "  </thead>\n",
       "  <tbody>\n",
       "    <tr>\n",
       "      <td>0</td>\n",
       "      <td>0.0</td>\n",
       "      <td>56</td>\n",
       "      <td>0</td>\n",
       "      <td>0</td>\n",
       "      <td>1</td>\n",
       "      <td>0</td>\n",
       "      <td>1</td>\n",
       "      <td>1</td>\n",
       "    </tr>\n",
       "    <tr>\n",
       "      <td>1</td>\n",
       "      <td>0.0</td>\n",
       "      <td>5</td>\n",
       "      <td>0</td>\n",
       "      <td>0</td>\n",
       "      <td>0</td>\n",
       "      <td>0</td>\n",
       "      <td>1</td>\n",
       "      <td>0</td>\n",
       "    </tr>\n",
       "    <tr>\n",
       "      <td>2</td>\n",
       "      <td>0.0</td>\n",
       "      <td>1</td>\n",
       "      <td>0</td>\n",
       "      <td>0</td>\n",
       "      <td>0</td>\n",
       "      <td>0</td>\n",
       "      <td>1</td>\n",
       "      <td>1</td>\n",
       "    </tr>\n",
       "    <tr>\n",
       "      <td>3</td>\n",
       "      <td>0.0</td>\n",
       "      <td>3</td>\n",
       "      <td>0</td>\n",
       "      <td>0</td>\n",
       "      <td>0</td>\n",
       "      <td>0</td>\n",
       "      <td>0</td>\n",
       "      <td>0</td>\n",
       "    </tr>\n",
       "    <tr>\n",
       "      <td>4</td>\n",
       "      <td>0.0</td>\n",
       "      <td>2</td>\n",
       "      <td>0</td>\n",
       "      <td>0</td>\n",
       "      <td>0</td>\n",
       "      <td>0</td>\n",
       "      <td>0</td>\n",
       "      <td>0</td>\n",
       "    </tr>\n",
       "  </tbody>\n",
       "</table>\n",
       "</div>"
      ],
      "text/plain": [
       "   wallet  txns  tier_Gold  tier_Platinum  tier_Silver  tier_Titanium  \\\n",
       "0     0.0    56          0              0            1              0   \n",
       "1     0.0     5          0              0            0              0   \n",
       "2     0.0     1          0              0            0              0   \n",
       "3     0.0     3          0              0            0              0   \n",
       "4     0.0     2          0              0            0              0   \n",
       "\n",
       "   sync_tag_yes  app_status_Y  \n",
       "0             1             1  \n",
       "1             1             0  \n",
       "2             1             1  \n",
       "3             0             0  \n",
       "4             0             0  "
      ]
     },
     "execution_count": 75,
     "metadata": {},
     "output_type": "execute_result"
    }
   ],
   "source": [
    "mmt_data_log1.head()"
   ]
  },
  {
   "cell_type": "markdown",
   "metadata": {},
   "source": [
    "#### Checking correlation"
   ]
  },
  {
   "cell_type": "code",
   "execution_count": 76,
   "metadata": {},
   "outputs": [
    {
     "data": {
      "image/png": "[encoded data removed]",
      "text/plain": [
       "<Figure size 1080x720 with 2 Axes>"
      ]
     },
     "metadata": {
      "needs_background": "light"
     },
     "output_type": "display_data"
    }
   ],
   "source": [
    "corr = mmt_data_log1.corr()   \n",
    "plt.figure(figsize=(15,10))\n",
    "sns.heatmap( mmt_data_log1.corr(), annot=True)\n",
    "plt.title('Correlation between features', fontsize = 15)\n",
    "plt.savefig('Correlation between features.png',  bbox_inches='tight')"
   ]
  },
  {
   "cell_type": "code",
   "execution_count": 78,
   "metadata": {},
   "outputs": [],
   "source": [
    "mmt_data_log1[mmt_data_log1['txns'] > 1] = 0  #setting multiple transactions to 0 and single transactions remains 1"
   ]
  },
  {
   "cell_type": "code",
   "execution_count": 81,
   "metadata": {},
   "outputs": [
    {
     "data": {
      "text/html": [
       "<div>\n",
       "<style scoped>\n",
       "    .dataframe tbody tr th:only-of-type {\n",
       "        vertical-align: middle;\n",
       "    }\n",
       "\n",
       "    .dataframe tbody tr th {\n",
       "        vertical-align: top;\n",
       "    }\n",
       "\n",
       "    .dataframe thead th {\n",
       "        text-align: right;\n",
       "    }\n",
       "</style>\n",
       "<table border=\"1\" class=\"dataframe\">\n",
       "  <thead>\n",
       "    <tr style=\"text-align: right;\">\n",
       "      <th></th>\n",
       "      <th>wallet</th>\n",
       "      <th>txns</th>\n",
       "      <th>tier_Gold</th>\n",
       "      <th>tier_Platinum</th>\n",
       "      <th>tier_Silver</th>\n",
       "      <th>tier_Titanium</th>\n",
       "      <th>sync_tag_yes</th>\n",
       "      <th>app_status_Y</th>\n",
       "    </tr>\n",
       "  </thead>\n",
       "  <tbody>\n",
       "    <tr>\n",
       "      <td>0</td>\n",
       "      <td>0.0</td>\n",
       "      <td>0</td>\n",
       "      <td>0</td>\n",
       "      <td>0</td>\n",
       "      <td>0</td>\n",
       "      <td>0</td>\n",
       "      <td>0</td>\n",
       "      <td>0</td>\n",
       "    </tr>\n",
       "    <tr>\n",
       "      <td>1</td>\n",
       "      <td>0.0</td>\n",
       "      <td>0</td>\n",
       "      <td>0</td>\n",
       "      <td>0</td>\n",
       "      <td>0</td>\n",
       "      <td>0</td>\n",
       "      <td>0</td>\n",
       "      <td>0</td>\n",
       "    </tr>\n",
       "    <tr>\n",
       "      <td>2</td>\n",
       "      <td>0.0</td>\n",
       "      <td>1</td>\n",
       "      <td>0</td>\n",
       "      <td>0</td>\n",
       "      <td>0</td>\n",
       "      <td>0</td>\n",
       "      <td>1</td>\n",
       "      <td>1</td>\n",
       "    </tr>\n",
       "    <tr>\n",
       "      <td>3</td>\n",
       "      <td>0.0</td>\n",
       "      <td>0</td>\n",
       "      <td>0</td>\n",
       "      <td>0</td>\n",
       "      <td>0</td>\n",
       "      <td>0</td>\n",
       "      <td>0</td>\n",
       "      <td>0</td>\n",
       "    </tr>\n",
       "    <tr>\n",
       "      <td>4</td>\n",
       "      <td>0.0</td>\n",
       "      <td>0</td>\n",
       "      <td>0</td>\n",
       "      <td>0</td>\n",
       "      <td>0</td>\n",
       "      <td>0</td>\n",
       "      <td>0</td>\n",
       "      <td>0</td>\n",
       "    </tr>\n",
       "  </tbody>\n",
       "</table>\n",
       "</div>"
      ],
      "text/plain": [
       "   wallet  txns  tier_Gold  tier_Platinum  tier_Silver  tier_Titanium  \\\n",
       "0     0.0     0          0              0            0              0   \n",
       "1     0.0     0          0              0            0              0   \n",
       "2     0.0     1          0              0            0              0   \n",
       "3     0.0     0          0              0            0              0   \n",
       "4     0.0     0          0              0            0              0   \n",
       "\n",
       "   sync_tag_yes  app_status_Y  \n",
       "0             0             0  \n",
       "1             0             0  \n",
       "2             1             1  \n",
       "3             0             0  \n",
       "4             0             0  "
      ]
     },
     "execution_count": 81,
     "metadata": {},
     "output_type": "execute_result"
    }
   ],
   "source": [
    "mmt_data_log1.head()"
   ]
  },
  {
   "cell_type": "markdown",
   "metadata": {},
   "source": [
    "### Preparing X and y using pandas"
   ]
  },
  {
   "cell_type": "code",
   "execution_count": 82,
   "metadata": {},
   "outputs": [
    {
     "data": {
      "text/html": [
       "<div>\n",
       "<style scoped>\n",
       "    .dataframe tbody tr th:only-of-type {\n",
       "        vertical-align: middle;\n",
       "    }\n",
       "\n",
       "    .dataframe tbody tr th {\n",
       "        vertical-align: top;\n",
       "    }\n",
       "\n",
       "    .dataframe thead th {\n",
       "        text-align: right;\n",
       "    }\n",
       "</style>\n",
       "<table border=\"1\" class=\"dataframe\">\n",
       "  <thead>\n",
       "    <tr style=\"text-align: right;\">\n",
       "      <th></th>\n",
       "      <th>wallet</th>\n",
       "      <th>tier_Gold</th>\n",
       "      <th>tier_Platinum</th>\n",
       "      <th>tier_Silver</th>\n",
       "      <th>tier_Titanium</th>\n",
       "      <th>sync_tag_yes</th>\n",
       "      <th>app_status_Y</th>\n",
       "    </tr>\n",
       "  </thead>\n",
       "  <tbody>\n",
       "    <tr>\n",
       "      <td>0</td>\n",
       "      <td>0.0</td>\n",
       "      <td>0</td>\n",
       "      <td>0</td>\n",
       "      <td>0</td>\n",
       "      <td>0</td>\n",
       "      <td>0</td>\n",
       "      <td>0</td>\n",
       "    </tr>\n",
       "    <tr>\n",
       "      <td>1</td>\n",
       "      <td>0.0</td>\n",
       "      <td>0</td>\n",
       "      <td>0</td>\n",
       "      <td>0</td>\n",
       "      <td>0</td>\n",
       "      <td>0</td>\n",
       "      <td>0</td>\n",
       "    </tr>\n",
       "    <tr>\n",
       "      <td>2</td>\n",
       "      <td>0.0</td>\n",
       "      <td>0</td>\n",
       "      <td>0</td>\n",
       "      <td>0</td>\n",
       "      <td>0</td>\n",
       "      <td>1</td>\n",
       "      <td>1</td>\n",
       "    </tr>\n",
       "    <tr>\n",
       "      <td>3</td>\n",
       "      <td>0.0</td>\n",
       "      <td>0</td>\n",
       "      <td>0</td>\n",
       "      <td>0</td>\n",
       "      <td>0</td>\n",
       "      <td>0</td>\n",
       "      <td>0</td>\n",
       "    </tr>\n",
       "    <tr>\n",
       "      <td>4</td>\n",
       "      <td>0.0</td>\n",
       "      <td>0</td>\n",
       "      <td>0</td>\n",
       "      <td>0</td>\n",
       "      <td>0</td>\n",
       "      <td>0</td>\n",
       "      <td>0</td>\n",
       "    </tr>\n",
       "  </tbody>\n",
       "</table>\n",
       "</div>"
      ],
      "text/plain": [
       "   wallet  tier_Gold  tier_Platinum  tier_Silver  tier_Titanium  sync_tag_yes  \\\n",
       "0     0.0          0              0            0              0             0   \n",
       "1     0.0          0              0            0              0             0   \n",
       "2     0.0          0              0            0              0             1   \n",
       "3     0.0          0              0            0              0             0   \n",
       "4     0.0          0              0            0              0             0   \n",
       "\n",
       "   app_status_Y  \n",
       "0             0  \n",
       "1             0  \n",
       "2             1  \n",
       "3             0  \n",
       "4             0  "
      ]
     },
     "execution_count": 82,
     "metadata": {},
     "output_type": "execute_result"
    }
   ],
   "source": [
    "X = mmt_data_log1.loc[:,mmt_data_log1.columns != 'txns']\n",
    "X.head()"
   ]
  },
  {
   "cell_type": "code",
   "execution_count": 83,
   "metadata": {},
   "outputs": [
    {
     "data": {
      "text/plain": [
       "0    0\n",
       "1    0\n",
       "2    1\n",
       "3    0\n",
       "4    0\n",
       "Name: txns, dtype: int64"
      ]
     },
     "execution_count": 83,
     "metadata": {},
     "output_type": "execute_result"
    }
   ],
   "source": [
    "y = mmt_data_log1.txns \n",
    "y.head()"
   ]
  },
  {
   "cell_type": "markdown",
   "metadata": {},
   "source": [
    "0 = More than 1 transaction\\\n",
    "1 = Only 1 transaction"
   ]
  },
  {
   "cell_type": "markdown",
   "metadata": {},
   "source": [
    "### Train-Test Split"
   ]
  },
  {
   "cell_type": "code",
   "execution_count": 84,
   "metadata": {},
   "outputs": [],
   "source": [
    "from sklearn.model_selection import train_test_split\n",
    "X_train, X_test, y_train, y_test = train_test_split(X, y, test_size=0.20, random_state=1)"
   ]
  },
  {
   "cell_type": "code",
   "execution_count": 85,
   "metadata": {},
   "outputs": [
    {
     "name": "stdout",
     "output_type": "stream",
     "text": [
      "(80000, 7)\n",
      "(80000,)\n"
     ]
    }
   ],
   "source": [
    "print(X_train.shape)\n",
    "print(y_train.shape)"
   ]
  },
  {
   "cell_type": "markdown",
   "metadata": {},
   "source": [
    "### Scaling the Data"
   ]
  },
  {
   "cell_type": "code",
   "execution_count": 86,
   "metadata": {},
   "outputs": [
    {
     "data": {
      "text/html": [
       "<div>\n",
       "<style scoped>\n",
       "    .dataframe tbody tr th:only-of-type {\n",
       "        vertical-align: middle;\n",
       "    }\n",
       "\n",
       "    .dataframe tbody tr th {\n",
       "        vertical-align: top;\n",
       "    }\n",
       "\n",
       "    .dataframe thead th {\n",
       "        text-align: right;\n",
       "    }\n",
       "</style>\n",
       "<table border=\"1\" class=\"dataframe\">\n",
       "  <thead>\n",
       "    <tr style=\"text-align: right;\">\n",
       "      <th></th>\n",
       "      <th>wallet</th>\n",
       "      <th>tier_Gold</th>\n",
       "      <th>tier_Platinum</th>\n",
       "      <th>tier_Silver</th>\n",
       "      <th>tier_Titanium</th>\n",
       "      <th>sync_tag_yes</th>\n",
       "      <th>app_status_Y</th>\n",
       "    </tr>\n",
       "  </thead>\n",
       "  <tbody>\n",
       "    <tr>\n",
       "      <td>0</td>\n",
       "      <td>-0.045147</td>\n",
       "      <td>-0.03573</td>\n",
       "      <td>-0.016958</td>\n",
       "      <td>-0.07671</td>\n",
       "      <td>-0.006124</td>\n",
       "      <td>-0.163786</td>\n",
       "      <td>-0.289846</td>\n",
       "    </tr>\n",
       "    <tr>\n",
       "      <td>1</td>\n",
       "      <td>-0.045147</td>\n",
       "      <td>-0.03573</td>\n",
       "      <td>-0.016958</td>\n",
       "      <td>-0.07671</td>\n",
       "      <td>-0.006124</td>\n",
       "      <td>-0.163786</td>\n",
       "      <td>-0.289846</td>\n",
       "    </tr>\n",
       "    <tr>\n",
       "      <td>2</td>\n",
       "      <td>-0.045147</td>\n",
       "      <td>-0.03573</td>\n",
       "      <td>-0.016958</td>\n",
       "      <td>-0.07671</td>\n",
       "      <td>-0.006124</td>\n",
       "      <td>-0.163786</td>\n",
       "      <td>-0.289846</td>\n",
       "    </tr>\n",
       "    <tr>\n",
       "      <td>3</td>\n",
       "      <td>-0.045147</td>\n",
       "      <td>-0.03573</td>\n",
       "      <td>-0.016958</td>\n",
       "      <td>-0.07671</td>\n",
       "      <td>-0.006124</td>\n",
       "      <td>-0.163786</td>\n",
       "      <td>-0.289846</td>\n",
       "    </tr>\n",
       "    <tr>\n",
       "      <td>4</td>\n",
       "      <td>-0.045147</td>\n",
       "      <td>-0.03573</td>\n",
       "      <td>-0.016958</td>\n",
       "      <td>-0.07671</td>\n",
       "      <td>-0.006124</td>\n",
       "      <td>-0.163786</td>\n",
       "      <td>-0.289846</td>\n",
       "    </tr>\n",
       "  </tbody>\n",
       "</table>\n",
       "</div>"
      ],
      "text/plain": [
       "     wallet  tier_Gold  tier_Platinum  tier_Silver  tier_Titanium  \\\n",
       "0 -0.045147   -0.03573      -0.016958     -0.07671      -0.006124   \n",
       "1 -0.045147   -0.03573      -0.016958     -0.07671      -0.006124   \n",
       "2 -0.045147   -0.03573      -0.016958     -0.07671      -0.006124   \n",
       "3 -0.045147   -0.03573      -0.016958     -0.07671      -0.006124   \n",
       "4 -0.045147   -0.03573      -0.016958     -0.07671      -0.006124   \n",
       "\n",
       "   sync_tag_yes  app_status_Y  \n",
       "0     -0.163786     -0.289846  \n",
       "1     -0.163786     -0.289846  \n",
       "2     -0.163786     -0.289846  \n",
       "3     -0.163786     -0.289846  \n",
       "4     -0.163786     -0.289846  "
      ]
     },
     "execution_count": 86,
     "metadata": {},
     "output_type": "execute_result"
    }
   ],
   "source": [
    "#fit and transform on train data\n",
    "from sklearn.preprocessing import StandardScaler\n",
    "sc = StandardScaler()\n",
    "X_train_s = sc.fit_transform(X_train) \n",
    "X_train_s = pd.DataFrame(X_train_s, columns = X.columns)\n",
    "X_train_s.head()"
   ]
  },
  {
   "cell_type": "code",
   "execution_count": 87,
   "metadata": {},
   "outputs": [
    {
     "data": {
      "text/html": [
       "<div>\n",
       "<style scoped>\n",
       "    .dataframe tbody tr th:only-of-type {\n",
       "        vertical-align: middle;\n",
       "    }\n",
       "\n",
       "    .dataframe tbody tr th {\n",
       "        vertical-align: top;\n",
       "    }\n",
       "\n",
       "    .dataframe thead th {\n",
       "        text-align: right;\n",
       "    }\n",
       "</style>\n",
       "<table border=\"1\" class=\"dataframe\">\n",
       "  <thead>\n",
       "    <tr style=\"text-align: right;\">\n",
       "      <th></th>\n",
       "      <th>wallet</th>\n",
       "      <th>tier_Gold</th>\n",
       "      <th>tier_Platinum</th>\n",
       "      <th>tier_Silver</th>\n",
       "      <th>tier_Titanium</th>\n",
       "      <th>sync_tag_yes</th>\n",
       "      <th>app_status_Y</th>\n",
       "    </tr>\n",
       "  </thead>\n",
       "  <tbody>\n",
       "    <tr>\n",
       "      <td>0</td>\n",
       "      <td>-0.045147</td>\n",
       "      <td>-0.03573</td>\n",
       "      <td>-0.016958</td>\n",
       "      <td>-0.07671</td>\n",
       "      <td>-0.006124</td>\n",
       "      <td>-0.163786</td>\n",
       "      <td>-0.289846</td>\n",
       "    </tr>\n",
       "    <tr>\n",
       "      <td>1</td>\n",
       "      <td>-0.045147</td>\n",
       "      <td>-0.03573</td>\n",
       "      <td>-0.016958</td>\n",
       "      <td>-0.07671</td>\n",
       "      <td>-0.006124</td>\n",
       "      <td>-0.163786</td>\n",
       "      <td>-0.289846</td>\n",
       "    </tr>\n",
       "    <tr>\n",
       "      <td>2</td>\n",
       "      <td>-0.045147</td>\n",
       "      <td>-0.03573</td>\n",
       "      <td>-0.016958</td>\n",
       "      <td>-0.07671</td>\n",
       "      <td>-0.006124</td>\n",
       "      <td>-0.163786</td>\n",
       "      <td>-0.289846</td>\n",
       "    </tr>\n",
       "    <tr>\n",
       "      <td>3</td>\n",
       "      <td>-0.045147</td>\n",
       "      <td>-0.03573</td>\n",
       "      <td>-0.016958</td>\n",
       "      <td>-0.07671</td>\n",
       "      <td>-0.006124</td>\n",
       "      <td>-0.163786</td>\n",
       "      <td>-0.289846</td>\n",
       "    </tr>\n",
       "    <tr>\n",
       "      <td>4</td>\n",
       "      <td>-0.045147</td>\n",
       "      <td>-0.03573</td>\n",
       "      <td>-0.016958</td>\n",
       "      <td>-0.07671</td>\n",
       "      <td>-0.006124</td>\n",
       "      <td>-0.163786</td>\n",
       "      <td>-0.289846</td>\n",
       "    </tr>\n",
       "  </tbody>\n",
       "</table>\n",
       "</div>"
      ],
      "text/plain": [
       "     wallet  tier_Gold  tier_Platinum  tier_Silver  tier_Titanium  \\\n",
       "0 -0.045147   -0.03573      -0.016958     -0.07671      -0.006124   \n",
       "1 -0.045147   -0.03573      -0.016958     -0.07671      -0.006124   \n",
       "2 -0.045147   -0.03573      -0.016958     -0.07671      -0.006124   \n",
       "3 -0.045147   -0.03573      -0.016958     -0.07671      -0.006124   \n",
       "4 -0.045147   -0.03573      -0.016958     -0.07671      -0.006124   \n",
       "\n",
       "   sync_tag_yes  app_status_Y  \n",
       "0     -0.163786     -0.289846  \n",
       "1     -0.163786     -0.289846  \n",
       "2     -0.163786     -0.289846  \n",
       "3     -0.163786     -0.289846  \n",
       "4     -0.163786     -0.289846  "
      ]
     },
     "execution_count": 87,
     "metadata": {},
     "output_type": "execute_result"
    }
   ],
   "source": [
    "#transform on test data\n",
    "X_test_s = sc.transform(X_test)\n",
    "X_test_s = pd.DataFrame(X_test_s, columns = X.columns)\n",
    "X_test_s.head()"
   ]
  },
  {
   "cell_type": "markdown",
   "metadata": {},
   "source": [
    "### Logistic Regression"
   ]
  },
  {
   "cell_type": "code",
   "execution_count": 88,
   "metadata": {},
   "outputs": [
    {
     "name": "stderr",
     "output_type": "stream",
     "text": [
      "E:\\Anaconda\\lib\\site-packages\\sklearn\\linear_model\\logistic.py:432: FutureWarning: Default solver will be changed to 'lbfgs' in 0.22. Specify a solver to silence this warning.\n",
      "  FutureWarning)\n"
     ]
    },
    {
     "data": {
      "text/plain": [
       "LogisticRegression(C=1.0, class_weight=None, dual=False, fit_intercept=True,\n",
       "                   intercept_scaling=1, l1_ratio=None, max_iter=100,\n",
       "                   multi_class='warn', n_jobs=None, penalty='l2',\n",
       "                   random_state=None, solver='warn', tol=0.0001, verbose=0,\n",
       "                   warm_start=False)"
      ]
     },
     "execution_count": 88,
     "metadata": {},
     "output_type": "execute_result"
    }
   ],
   "source": [
    "from sklearn.linear_model import LogisticRegression\n",
    "logreg = LogisticRegression()\n",
    "logreg.fit(X_train_s,y_train)"
   ]
  },
  {
   "cell_type": "code",
   "execution_count": 89,
   "metadata": {},
   "outputs": [],
   "source": [
    "y_pred_logreg = logreg.predict(X_test_s)"
   ]
  },
  {
   "cell_type": "code",
   "execution_count": 90,
   "metadata": {},
   "outputs": [],
   "source": [
    "y_pred_prob_logreg = logreg.predict_proba(X_test_s)"
   ]
  },
  {
   "cell_type": "code",
   "execution_count": 91,
   "metadata": {},
   "outputs": [],
   "source": [
    "from sklearn.metrics import accuracy_score\n",
    "from sklearn.metrics import confusion_matrix\n",
    "from sklearn.metrics import precision_score\n",
    "from sklearn.metrics import recall_score\n",
    "from sklearn.metrics import f1_score\n",
    "from sklearn.metrics import auc,roc_auc_score"
   ]
  },
  {
   "cell_type": "code",
   "execution_count": 92,
   "metadata": {},
   "outputs": [
    {
     "name": "stdout",
     "output_type": "stream",
     "text": [
      "test-set confusion matrix:\n",
      " [[13315     0]\n",
      " [ 4887  1798]]\n",
      "recall score:  0.26896035901271503\n",
      "precision score:  1.0\n",
      "f1 score:  0.4239066368030178\n",
      "accuracy score:  0.75565\n",
      "ROC AUC: 0.6344801795063575\n"
     ]
    }
   ],
   "source": [
    "print('test-set confusion matrix:\\n', confusion_matrix(y_test,y_pred_logreg)) \n",
    "print(\"recall score: \", recall_score(y_test,y_pred_logreg))\n",
    "print(\"precision score: \", precision_score(y_test,y_pred_logreg))\n",
    "print(\"f1 score: \", f1_score(y_test,y_pred_logreg))\n",
    "print(\"accuracy score: \", accuracy_score(y_test,y_pred_logreg))\n",
    "print(\"ROC AUC: {}\".format(roc_auc_score(y_test, y_pred_prob_logreg[:,1])))"
   ]
  },
  {
   "cell_type": "code",
   "execution_count": 93,
   "metadata": {},
   "outputs": [
    {
     "data": {
      "text/plain": [
       "array([[7.31537407e-01, 2.68462593e-01],\n",
       "       [7.31537407e-01, 2.68462593e-01],\n",
       "       [7.31537407e-01, 2.68462593e-01],\n",
       "       ...,\n",
       "       [1.47604962e-04, 9.99852395e-01],\n",
       "       [1.47604962e-04, 9.99852395e-01],\n",
       "       [7.31537407e-01, 2.68462593e-01]])"
      ]
     },
     "execution_count": 93,
     "metadata": {},
     "output_type": "execute_result"
    }
   ],
   "source": [
    "y_pred_prob_logreg"
   ]
  },
  {
   "cell_type": "code",
   "execution_count": 95,
   "metadata": {},
   "outputs": [
    {
     "data": {
      "text/html": [
       "<div>\n",
       "<style scoped>\n",
       "    .dataframe tbody tr th:only-of-type {\n",
       "        vertical-align: middle;\n",
       "    }\n",
       "\n",
       "    .dataframe tbody tr th {\n",
       "        vertical-align: top;\n",
       "    }\n",
       "\n",
       "    .dataframe thead th {\n",
       "        text-align: right;\n",
       "    }\n",
       "</style>\n",
       "<table border=\"1\" class=\"dataframe\">\n",
       "  <thead>\n",
       "    <tr style=\"text-align: right;\">\n",
       "      <th></th>\n",
       "      <th>0</th>\n",
       "      <th>1</th>\n",
       "    </tr>\n",
       "  </thead>\n",
       "  <tbody>\n",
       "    <tr>\n",
       "      <td>0</td>\n",
       "      <td>0.731537</td>\n",
       "      <td>0.268463</td>\n",
       "    </tr>\n",
       "    <tr>\n",
       "      <td>1</td>\n",
       "      <td>0.731537</td>\n",
       "      <td>0.268463</td>\n",
       "    </tr>\n",
       "    <tr>\n",
       "      <td>2</td>\n",
       "      <td>0.731537</td>\n",
       "      <td>0.268463</td>\n",
       "    </tr>\n",
       "    <tr>\n",
       "      <td>3</td>\n",
       "      <td>0.731537</td>\n",
       "      <td>0.268463</td>\n",
       "    </tr>\n",
       "    <tr>\n",
       "      <td>4</td>\n",
       "      <td>0.731537</td>\n",
       "      <td>0.268463</td>\n",
       "    </tr>\n",
       "    <tr>\n",
       "      <td>...</td>\n",
       "      <td>...</td>\n",
       "      <td>...</td>\n",
       "    </tr>\n",
       "    <tr>\n",
       "      <td>19995</td>\n",
       "      <td>0.731537</td>\n",
       "      <td>0.268463</td>\n",
       "    </tr>\n",
       "    <tr>\n",
       "      <td>19996</td>\n",
       "      <td>0.731537</td>\n",
       "      <td>0.268463</td>\n",
       "    </tr>\n",
       "    <tr>\n",
       "      <td>19997</td>\n",
       "      <td>0.000148</td>\n",
       "      <td>0.999852</td>\n",
       "    </tr>\n",
       "    <tr>\n",
       "      <td>19998</td>\n",
       "      <td>0.000148</td>\n",
       "      <td>0.999852</td>\n",
       "    </tr>\n",
       "    <tr>\n",
       "      <td>19999</td>\n",
       "      <td>0.731537</td>\n",
       "      <td>0.268463</td>\n",
       "    </tr>\n",
       "  </tbody>\n",
       "</table>\n",
       "<p>20000 rows × 2 columns</p>\n",
       "</div>"
      ],
      "text/plain": [
       "              0         1\n",
       "0      0.731537  0.268463\n",
       "1      0.731537  0.268463\n",
       "2      0.731537  0.268463\n",
       "3      0.731537  0.268463\n",
       "4      0.731537  0.268463\n",
       "...         ...       ...\n",
       "19995  0.731537  0.268463\n",
       "19996  0.731537  0.268463\n",
       "19997  0.000148  0.999852\n",
       "19998  0.000148  0.999852\n",
       "19999  0.731537  0.268463\n",
       "\n",
       "[20000 rows x 2 columns]"
      ]
     },
     "execution_count": 95,
     "metadata": {},
     "output_type": "execute_result"
    }
   ],
   "source": [
    "y_pred_prob_logreg_df = pd.DataFrame(y_pred_prob_logreg)\n",
    "y_pred_prob_logreg_df"
   ]
  },
  {
   "cell_type": "code",
   "execution_count": 136,
   "metadata": {
    "scrolled": true
   },
   "outputs": [
    {
     "data": {
      "text/plain": [
       "0.75565"
      ]
     },
     "execution_count": 136,
     "metadata": {},
     "output_type": "execute_result"
    }
   ],
   "source": [
    "logreg.score(X_test_s, y_test)"
   ]
  },
  {
   "cell_type": "code",
   "execution_count": null,
   "metadata": {},
   "outputs": [],
   "source": []
  },
  {
   "cell_type": "markdown",
   "metadata": {},
   "source": [
    "### Finding probability score of each user"
   ]
  },
  {
   "cell_type": "code",
   "execution_count": 96,
   "metadata": {},
   "outputs": [
    {
     "data": {
      "text/html": [
       "<div>\n",
       "<style scoped>\n",
       "    .dataframe tbody tr th:only-of-type {\n",
       "        vertical-align: middle;\n",
       "    }\n",
       "\n",
       "    .dataframe tbody tr th {\n",
       "        vertical-align: top;\n",
       "    }\n",
       "\n",
       "    .dataframe thead th {\n",
       "        text-align: right;\n",
       "    }\n",
       "</style>\n",
       "<table border=\"1\" class=\"dataframe\">\n",
       "  <thead>\n",
       "    <tr style=\"text-align: right;\">\n",
       "      <th></th>\n",
       "      <th>wallet</th>\n",
       "      <th>tier_Gold</th>\n",
       "      <th>tier_Platinum</th>\n",
       "      <th>tier_Silver</th>\n",
       "      <th>tier_Titanium</th>\n",
       "      <th>sync_tag_yes</th>\n",
       "      <th>app_status_Y</th>\n",
       "    </tr>\n",
       "  </thead>\n",
       "  <tbody>\n",
       "    <tr>\n",
       "      <td>0</td>\n",
       "      <td>-0.043201</td>\n",
       "      <td>-0.035235</td>\n",
       "      <td>-0.017032</td>\n",
       "      <td>-0.077236</td>\n",
       "      <td>-0.006325</td>\n",
       "      <td>-0.162963</td>\n",
       "      <td>-0.289603</td>\n",
       "    </tr>\n",
       "    <tr>\n",
       "      <td>1</td>\n",
       "      <td>-0.043201</td>\n",
       "      <td>-0.035235</td>\n",
       "      <td>-0.017032</td>\n",
       "      <td>-0.077236</td>\n",
       "      <td>-0.006325</td>\n",
       "      <td>-0.162963</td>\n",
       "      <td>-0.289603</td>\n",
       "    </tr>\n",
       "    <tr>\n",
       "      <td>2</td>\n",
       "      <td>-0.043201</td>\n",
       "      <td>-0.035235</td>\n",
       "      <td>-0.017032</td>\n",
       "      <td>-0.077236</td>\n",
       "      <td>-0.006325</td>\n",
       "      <td>6.136352</td>\n",
       "      <td>3.453004</td>\n",
       "    </tr>\n",
       "    <tr>\n",
       "      <td>3</td>\n",
       "      <td>-0.043201</td>\n",
       "      <td>-0.035235</td>\n",
       "      <td>-0.017032</td>\n",
       "      <td>-0.077236</td>\n",
       "      <td>-0.006325</td>\n",
       "      <td>-0.162963</td>\n",
       "      <td>-0.289603</td>\n",
       "    </tr>\n",
       "    <tr>\n",
       "      <td>4</td>\n",
       "      <td>-0.043201</td>\n",
       "      <td>-0.035235</td>\n",
       "      <td>-0.017032</td>\n",
       "      <td>-0.077236</td>\n",
       "      <td>-0.006325</td>\n",
       "      <td>-0.162963</td>\n",
       "      <td>-0.289603</td>\n",
       "    </tr>\n",
       "  </tbody>\n",
       "</table>\n",
       "</div>"
      ],
      "text/plain": [
       "     wallet  tier_Gold  tier_Platinum  tier_Silver  tier_Titanium  \\\n",
       "0 -0.043201  -0.035235      -0.017032    -0.077236      -0.006325   \n",
       "1 -0.043201  -0.035235      -0.017032    -0.077236      -0.006325   \n",
       "2 -0.043201  -0.035235      -0.017032    -0.077236      -0.006325   \n",
       "3 -0.043201  -0.035235      -0.017032    -0.077236      -0.006325   \n",
       "4 -0.043201  -0.035235      -0.017032    -0.077236      -0.006325   \n",
       "\n",
       "   sync_tag_yes  app_status_Y  \n",
       "0     -0.162963     -0.289603  \n",
       "1     -0.162963     -0.289603  \n",
       "2      6.136352      3.453004  \n",
       "3     -0.162963     -0.289603  \n",
       "4     -0.162963     -0.289603  "
      ]
     },
     "execution_count": 96,
     "metadata": {},
     "output_type": "execute_result"
    }
   ],
   "source": [
    "from sklearn.preprocessing import StandardScaler\n",
    "sc = StandardScaler()\n",
    "X_s = sc.fit_transform(X) \n",
    "X_s = pd.DataFrame(X_s, columns = X.columns)\n",
    "X_s.head()"
   ]
  },
  {
   "cell_type": "code",
   "execution_count": 98,
   "metadata": {},
   "outputs": [
    {
     "data": {
      "text/plain": [
       "(100000, 7)"
      ]
     },
     "execution_count": 98,
     "metadata": {},
     "output_type": "execute_result"
    }
   ],
   "source": [
    "X_s.shape"
   ]
  },
  {
   "cell_type": "code",
   "execution_count": 99,
   "metadata": {},
   "outputs": [],
   "source": [
    "y_pred_prob_logreg_X = logreg.predict_proba(X_s)"
   ]
  },
  {
   "cell_type": "code",
   "execution_count": 101,
   "metadata": {},
   "outputs": [
    {
     "data": {
      "text/html": [
       "<div>\n",
       "<style scoped>\n",
       "    .dataframe tbody tr th:only-of-type {\n",
       "        vertical-align: middle;\n",
       "    }\n",
       "\n",
       "    .dataframe tbody tr th {\n",
       "        vertical-align: top;\n",
       "    }\n",
       "\n",
       "    .dataframe thead th {\n",
       "        text-align: right;\n",
       "    }\n",
       "</style>\n",
       "<table border=\"1\" class=\"dataframe\">\n",
       "  <thead>\n",
       "    <tr style=\"text-align: right;\">\n",
       "      <th></th>\n",
       "      <th>0</th>\n",
       "      <th>1</th>\n",
       "    </tr>\n",
       "  </thead>\n",
       "  <tbody>\n",
       "    <tr>\n",
       "      <td>0</td>\n",
       "      <td>7.304249e-01</td>\n",
       "      <td>0.269575</td>\n",
       "    </tr>\n",
       "    <tr>\n",
       "      <td>1</td>\n",
       "      <td>7.304249e-01</td>\n",
       "      <td>0.269575</td>\n",
       "    </tr>\n",
       "    <tr>\n",
       "      <td>2</td>\n",
       "      <td>1.501690e-08</td>\n",
       "      <td>1.000000</td>\n",
       "    </tr>\n",
       "    <tr>\n",
       "      <td>3</td>\n",
       "      <td>7.304249e-01</td>\n",
       "      <td>0.269575</td>\n",
       "    </tr>\n",
       "    <tr>\n",
       "      <td>4</td>\n",
       "      <td>7.304249e-01</td>\n",
       "      <td>0.269575</td>\n",
       "    </tr>\n",
       "  </tbody>\n",
       "</table>\n",
       "</div>"
      ],
      "text/plain": [
       "              0         1\n",
       "0  7.304249e-01  0.269575\n",
       "1  7.304249e-01  0.269575\n",
       "2  1.501690e-08  1.000000\n",
       "3  7.304249e-01  0.269575\n",
       "4  7.304249e-01  0.269575"
      ]
     },
     "execution_count": 101,
     "metadata": {},
     "output_type": "execute_result"
    }
   ],
   "source": [
    "y_pred_prob_logreg_X = pd.DataFrame(y_pred_prob_logreg_X)\n",
    "y_pred_prob_logreg_X.head()"
   ]
  },
  {
   "cell_type": "code",
   "execution_count": 105,
   "metadata": {},
   "outputs": [
    {
     "data": {
      "text/html": [
       "<div>\n",
       "<style scoped>\n",
       "    .dataframe tbody tr th:only-of-type {\n",
       "        vertical-align: middle;\n",
       "    }\n",
       "\n",
       "    .dataframe tbody tr th {\n",
       "        vertical-align: top;\n",
       "    }\n",
       "\n",
       "    .dataframe thead th {\n",
       "        text-align: right;\n",
       "    }\n",
       "</style>\n",
       "<table border=\"1\" class=\"dataframe\">\n",
       "  <thead>\n",
       "    <tr style=\"text-align: right;\">\n",
       "      <th></th>\n",
       "      <th>wallet</th>\n",
       "      <th>tier_Gold</th>\n",
       "      <th>tier_Platinum</th>\n",
       "      <th>tier_Silver</th>\n",
       "      <th>tier_Titanium</th>\n",
       "      <th>sync_tag_yes</th>\n",
       "      <th>app_status_Y</th>\n",
       "      <th>0</th>\n",
       "      <th>1</th>\n",
       "    </tr>\n",
       "  </thead>\n",
       "  <tbody>\n",
       "    <tr>\n",
       "      <td>0</td>\n",
       "      <td>-0.043201</td>\n",
       "      <td>-0.035235</td>\n",
       "      <td>-0.017032</td>\n",
       "      <td>-0.077236</td>\n",
       "      <td>-0.006325</td>\n",
       "      <td>-0.162963</td>\n",
       "      <td>-0.289603</td>\n",
       "      <td>7.304249e-01</td>\n",
       "      <td>0.269575</td>\n",
       "    </tr>\n",
       "    <tr>\n",
       "      <td>1</td>\n",
       "      <td>-0.043201</td>\n",
       "      <td>-0.035235</td>\n",
       "      <td>-0.017032</td>\n",
       "      <td>-0.077236</td>\n",
       "      <td>-0.006325</td>\n",
       "      <td>-0.162963</td>\n",
       "      <td>-0.289603</td>\n",
       "      <td>7.304249e-01</td>\n",
       "      <td>0.269575</td>\n",
       "    </tr>\n",
       "    <tr>\n",
       "      <td>2</td>\n",
       "      <td>-0.043201</td>\n",
       "      <td>-0.035235</td>\n",
       "      <td>-0.017032</td>\n",
       "      <td>-0.077236</td>\n",
       "      <td>-0.006325</td>\n",
       "      <td>6.136352</td>\n",
       "      <td>3.453004</td>\n",
       "      <td>1.501690e-08</td>\n",
       "      <td>1.000000</td>\n",
       "    </tr>\n",
       "    <tr>\n",
       "      <td>3</td>\n",
       "      <td>-0.043201</td>\n",
       "      <td>-0.035235</td>\n",
       "      <td>-0.017032</td>\n",
       "      <td>-0.077236</td>\n",
       "      <td>-0.006325</td>\n",
       "      <td>-0.162963</td>\n",
       "      <td>-0.289603</td>\n",
       "      <td>7.304249e-01</td>\n",
       "      <td>0.269575</td>\n",
       "    </tr>\n",
       "    <tr>\n",
       "      <td>4</td>\n",
       "      <td>-0.043201</td>\n",
       "      <td>-0.035235</td>\n",
       "      <td>-0.017032</td>\n",
       "      <td>-0.077236</td>\n",
       "      <td>-0.006325</td>\n",
       "      <td>-0.162963</td>\n",
       "      <td>-0.289603</td>\n",
       "      <td>7.304249e-01</td>\n",
       "      <td>0.269575</td>\n",
       "    </tr>\n",
       "  </tbody>\n",
       "</table>\n",
       "</div>"
      ],
      "text/plain": [
       "     wallet  tier_Gold  tier_Platinum  tier_Silver  tier_Titanium  \\\n",
       "0 -0.043201  -0.035235      -0.017032    -0.077236      -0.006325   \n",
       "1 -0.043201  -0.035235      -0.017032    -0.077236      -0.006325   \n",
       "2 -0.043201  -0.035235      -0.017032    -0.077236      -0.006325   \n",
       "3 -0.043201  -0.035235      -0.017032    -0.077236      -0.006325   \n",
       "4 -0.043201  -0.035235      -0.017032    -0.077236      -0.006325   \n",
       "\n",
       "   sync_tag_yes  app_status_Y             0         1  \n",
       "0     -0.162963     -0.289603  7.304249e-01  0.269575  \n",
       "1     -0.162963     -0.289603  7.304249e-01  0.269575  \n",
       "2      6.136352      3.453004  1.501690e-08  1.000000  \n",
       "3     -0.162963     -0.289603  7.304249e-01  0.269575  \n",
       "4     -0.162963     -0.289603  7.304249e-01  0.269575  "
      ]
     },
     "execution_count": 105,
     "metadata": {},
     "output_type": "execute_result"
    }
   ],
   "source": [
    "#oncatinationg the two dataframes\n",
    "prob_model = pd.concat([X_s, y_pred_prob_logreg_X], axis = 1)\n",
    "prob_model.head()"
   ]
  },
  {
   "cell_type": "markdown",
   "metadata": {},
   "source": [
    "The column '0' shows the probablity of multiple transactions."
   ]
  },
  {
   "cell_type": "code",
   "execution_count": 107,
   "metadata": {},
   "outputs": [
    {
     "data": {
      "text/plain": [
       "<matplotlib.axes._subplots.AxesSubplot at 0x1c7d160c308>"
      ]
     },
     "execution_count": 107,
     "metadata": {},
     "output_type": "execute_result"
    },
    {
     "data": {
      "image/png": "[encoded data removed]",
      "text/plain": [
       "<Figure size 432x288 with 1 Axes>"
      ]
     },
     "metadata": {
      "needs_background": "light"
     },
     "output_type": "display_data"
    }
   ],
   "source": [
    "sns.kdeplot(prob_model[0])"
   ]
  },
  {
   "cell_type": "code",
   "execution_count": 109,
   "metadata": {},
   "outputs": [
    {
     "data": {
      "text/plain": [
       "0    7.304249e-01\n",
       "1    7.304249e-01\n",
       "2    1.501690e-08\n",
       "3    7.304249e-01\n",
       "4    7.304249e-01\n",
       "Name: 0, dtype: float64"
      ]
     },
     "execution_count": 109,
     "metadata": {},
     "output_type": "execute_result"
    }
   ],
   "source": [
    "mult_trans_prob =  prob_model[0]\n",
    "mult_trans_prob.head()"
   ]
  },
  {
   "cell_type": "code",
   "execution_count": 119,
   "metadata": {},
   "outputs": [],
   "source": [
    "#Filtering those with probabilty more than 0.5 \n",
    "mult_trans_prob2 = mult_trans_prob[mult_trans_prob > 0.5]"
   ]
  },
  {
   "cell_type": "code",
   "execution_count": 120,
   "metadata": {},
   "outputs": [
    {
     "data": {
      "text/plain": [
       "0        0.730425\n",
       "1        0.730425\n",
       "3        0.730425\n",
       "4        0.730425\n",
       "5        0.730425\n",
       "           ...   \n",
       "99991    0.730425\n",
       "99992    0.730425\n",
       "99994    0.730425\n",
       "99995    0.730425\n",
       "99996    0.730425\n",
       "Name: 0, Length: 90908, dtype: float64"
      ]
     },
     "execution_count": 120,
     "metadata": {},
     "output_type": "execute_result"
    }
   ],
   "source": [
    "mult_trans_prob2"
   ]
  },
  {
   "cell_type": "code",
   "execution_count": 121,
   "metadata": {},
   "outputs": [
    {
     "data": {
      "text/plain": [
       "0.7304248656074431"
      ]
     },
     "execution_count": 121,
     "metadata": {},
     "output_type": "execute_result"
    }
   ],
   "source": [
    "#finding average probability\n",
    "mult_trans_prob1.mean()"
   ]
  },
  {
   "cell_type": "markdown",
   "metadata": {},
   "source": [
    "So, probability of users transacting again, who have made single transaction till date is **0.73**."
   ]
  },
  {
   "cell_type": "markdown",
   "metadata": {},
   "source": [
    "<a id=section6></a>"
   ]
  },
  {
   "cell_type": "markdown",
   "metadata": {},
   "source": [
    "## Problem 4"
   ]
  },
  {
   "cell_type": "markdown",
   "metadata": {},
   "source": [
    "## Build a statistical Model to find the probability of repeat transaction by a user and divide them in 10 different buckets of probability with equal user in each bucket."
   ]
  },
  {
   "cell_type": "code",
   "execution_count": 122,
   "metadata": {},
   "outputs": [
    {
     "data": {
      "text/html": [
       "<div>\n",
       "<style scoped>\n",
       "    .dataframe tbody tr th:only-of-type {\n",
       "        vertical-align: middle;\n",
       "    }\n",
       "\n",
       "    .dataframe tbody tr th {\n",
       "        vertical-align: top;\n",
       "    }\n",
       "\n",
       "    .dataframe thead th {\n",
       "        text-align: right;\n",
       "    }\n",
       "</style>\n",
       "<table border=\"1\" class=\"dataframe\">\n",
       "  <thead>\n",
       "    <tr style=\"text-align: right;\">\n",
       "      <th></th>\n",
       "      <th>wallet</th>\n",
       "      <th>tier_Gold</th>\n",
       "      <th>tier_Platinum</th>\n",
       "      <th>tier_Silver</th>\n",
       "      <th>tier_Titanium</th>\n",
       "      <th>sync_tag_yes</th>\n",
       "      <th>app_status_Y</th>\n",
       "      <th>0</th>\n",
       "      <th>1</th>\n",
       "    </tr>\n",
       "  </thead>\n",
       "  <tbody>\n",
       "    <tr>\n",
       "      <td>0</td>\n",
       "      <td>-0.043201</td>\n",
       "      <td>-0.035235</td>\n",
       "      <td>-0.017032</td>\n",
       "      <td>-0.077236</td>\n",
       "      <td>-0.006325</td>\n",
       "      <td>-0.162963</td>\n",
       "      <td>-0.289603</td>\n",
       "      <td>7.304249e-01</td>\n",
       "      <td>0.269575</td>\n",
       "    </tr>\n",
       "    <tr>\n",
       "      <td>1</td>\n",
       "      <td>-0.043201</td>\n",
       "      <td>-0.035235</td>\n",
       "      <td>-0.017032</td>\n",
       "      <td>-0.077236</td>\n",
       "      <td>-0.006325</td>\n",
       "      <td>-0.162963</td>\n",
       "      <td>-0.289603</td>\n",
       "      <td>7.304249e-01</td>\n",
       "      <td>0.269575</td>\n",
       "    </tr>\n",
       "    <tr>\n",
       "      <td>2</td>\n",
       "      <td>-0.043201</td>\n",
       "      <td>-0.035235</td>\n",
       "      <td>-0.017032</td>\n",
       "      <td>-0.077236</td>\n",
       "      <td>-0.006325</td>\n",
       "      <td>6.136352</td>\n",
       "      <td>3.453004</td>\n",
       "      <td>1.501690e-08</td>\n",
       "      <td>1.000000</td>\n",
       "    </tr>\n",
       "    <tr>\n",
       "      <td>3</td>\n",
       "      <td>-0.043201</td>\n",
       "      <td>-0.035235</td>\n",
       "      <td>-0.017032</td>\n",
       "      <td>-0.077236</td>\n",
       "      <td>-0.006325</td>\n",
       "      <td>-0.162963</td>\n",
       "      <td>-0.289603</td>\n",
       "      <td>7.304249e-01</td>\n",
       "      <td>0.269575</td>\n",
       "    </tr>\n",
       "    <tr>\n",
       "      <td>4</td>\n",
       "      <td>-0.043201</td>\n",
       "      <td>-0.035235</td>\n",
       "      <td>-0.017032</td>\n",
       "      <td>-0.077236</td>\n",
       "      <td>-0.006325</td>\n",
       "      <td>-0.162963</td>\n",
       "      <td>-0.289603</td>\n",
       "      <td>7.304249e-01</td>\n",
       "      <td>0.269575</td>\n",
       "    </tr>\n",
       "  </tbody>\n",
       "</table>\n",
       "</div>"
      ],
      "text/plain": [
       "     wallet  tier_Gold  tier_Platinum  tier_Silver  tier_Titanium  \\\n",
       "0 -0.043201  -0.035235      -0.017032    -0.077236      -0.006325   \n",
       "1 -0.043201  -0.035235      -0.017032    -0.077236      -0.006325   \n",
       "2 -0.043201  -0.035235      -0.017032    -0.077236      -0.006325   \n",
       "3 -0.043201  -0.035235      -0.017032    -0.077236      -0.006325   \n",
       "4 -0.043201  -0.035235      -0.017032    -0.077236      -0.006325   \n",
       "\n",
       "   sync_tag_yes  app_status_Y             0         1  \n",
       "0     -0.162963     -0.289603  7.304249e-01  0.269575  \n",
       "1     -0.162963     -0.289603  7.304249e-01  0.269575  \n",
       "2      6.136352      3.453004  1.501690e-08  1.000000  \n",
       "3     -0.162963     -0.289603  7.304249e-01  0.269575  \n",
       "4     -0.162963     -0.289603  7.304249e-01  0.269575  "
      ]
     },
     "execution_count": 122,
     "metadata": {},
     "output_type": "execute_result"
    }
   ],
   "source": [
    "prob_model.head()"
   ]
  },
  {
   "cell_type": "code",
   "execution_count": 137,
   "metadata": {},
   "outputs": [
    {
     "name": "stdout",
     "output_type": "stream",
     "text": [
      "<class 'pandas.core.frame.DataFrame'>\n",
      "RangeIndex: 100000 entries, 0 to 99999\n",
      "Data columns (total 9 columns):\n",
      "wallet           100000 non-null float64\n",
      "tier_Gold        100000 non-null float64\n",
      "tier_Platinum    100000 non-null float64\n",
      "tier_Silver      100000 non-null float64\n",
      "tier_Titanium    100000 non-null float64\n",
      "sync_tag_yes     100000 non-null float64\n",
      "app_status_Y     100000 non-null float64\n",
      "0                100000 non-null float64\n",
      "1                100000 non-null float64\n",
      "dtypes: float64(9)\n",
      "memory usage: 6.9 MB\n"
     ]
    }
   ],
   "source": [
    "prob_model.info()"
   ]
  },
  {
   "cell_type": "markdown",
   "metadata": {},
   "source": [
    "#### For '0' column"
   ]
  },
  {
   "cell_type": "code",
   "execution_count": 125,
   "metadata": {},
   "outputs": [
    {
     "data": {
      "text/plain": [
       "array([0.        , 0.08115832, 0.16231664, 0.24347496, 0.32463327,\n",
       "       0.40579159, 0.48694991, 0.56810823, 0.64926655, 0.73042487])"
      ]
     },
     "execution_count": 125,
     "metadata": {},
     "output_type": "execute_result"
    }
   ],
   "source": [
    "bins = np.linspace(prob_model[0].min(), prob_model[0].max(), 10)\n",
    "bins"
   ]
  },
  {
   "cell_type": "code",
   "execution_count": 133,
   "metadata": {},
   "outputs": [],
   "source": [
    "bins_ = prob_model[0].groupby(pd.cut(prob_model[0],bins))"
   ]
  },
  {
   "cell_type": "code",
   "execution_count": 136,
   "metadata": {},
   "outputs": [
    {
     "data": {
      "text/plain": [
       "0\n",
       "(0.0, 0.0812]      0.000184\n",
       "(0.0812, 0.162]         NaN\n",
       "(0.162, 0.243]          NaN\n",
       "(0.243, 0.325]     0.304058\n",
       "(0.325, 0.406]          NaN\n",
       "(0.406, 0.487]          NaN\n",
       "(0.487, 0.568]          NaN\n",
       "(0.568, 0.649]          NaN\n",
       "(0.649, 0.73]      0.730425\n",
       "Name: 0, dtype: float64"
      ]
     },
     "execution_count": 136,
     "metadata": {},
     "output_type": "execute_result"
    }
   ],
   "source": [
    "bins_.mean()"
   ]
  },
  {
   "cell_type": "markdown",
   "metadata": {},
   "source": [
    "#### For '1' Column"
   ]
  },
  {
   "cell_type": "code",
   "execution_count": 138,
   "metadata": {
    "scrolled": true
   },
   "outputs": [
    {
     "data": {
      "text/plain": [
       "array([0.26957513, 0.35073345, 0.43189177, 0.51305009, 0.59420841,\n",
       "       0.67536673, 0.75652504, 0.83768336, 0.91884168, 1.        ])"
      ]
     },
     "execution_count": 138,
     "metadata": {},
     "output_type": "execute_result"
    }
   ],
   "source": [
    "bins1 = np.linspace(prob_model[1].min(), prob_model[1].max(), 10)\n",
    "bins1"
   ]
  },
  {
   "cell_type": "code",
   "execution_count": 139,
   "metadata": {},
   "outputs": [],
   "source": [
    "bins_1 = prob_model[1].groupby(pd.cut(prob_model[1],bins))"
   ]
  },
  {
   "cell_type": "code",
   "execution_count": 140,
   "metadata": {
    "scrolled": true
   },
   "outputs": [
    {
     "data": {
      "text/plain": [
       "1\n",
       "(0.0, 0.0812]           NaN\n",
       "(0.0812, 0.162]         NaN\n",
       "(0.162, 0.243]          NaN\n",
       "(0.243, 0.325]     0.269575\n",
       "(0.325, 0.406]          NaN\n",
       "(0.406, 0.487]          NaN\n",
       "(0.487, 0.568]          NaN\n",
       "(0.568, 0.649]          NaN\n",
       "(0.649, 0.73]      0.695942\n",
       "Name: 1, dtype: float64"
      ]
     },
     "execution_count": 140,
     "metadata": {},
     "output_type": "execute_result"
    }
   ],
   "source": [
    "bins_1.mean()"
   ]
  },
  {
   "cell_type": "markdown",
   "metadata": {},
   "source": [
    "<img src=\"https://media.giphy.com/media/3o6ozuHcxTtVWJJn32/giphy.gif\" width=\"240\" height=\"360\" />"
   ]
  }
 ],
 "metadata": {
  "kernelspec": {
   "display_name": "Python 3",
   "language": "python",
   "name": "python3"
  },
  "language_info": {
   "codemirror_mode": {
    "name": "ipython",
    "version": 3
   },
   "file_extension": ".py",
   "mimetype": "text/x-python",
   "name": "python",
   "nbconvert_exporter": "python",
   "pygments_lexer": "ipython3",
   "version": "3.7.4"
  }
 },
 "nbformat": 4,
 "nbformat_minor": 2
}
